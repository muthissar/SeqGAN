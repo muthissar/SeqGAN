{
 "cells": [
  {
   "cell_type": "code",
   "execution_count": 83,
   "metadata": {},
   "outputs": [],
   "source": [
    "from pathlib import Path\n",
    "import re\n",
    "import yaml"
   ]
  },
  {
   "cell_type": "code",
   "execution_count": 3,
   "metadata": {},
   "outputs": [
    {
     "name": "stdout",
     "output_type": "stream",
     "text": [
      "The tensorboard extension is already loaded. To reload it, use:\n",
      "  %reload_ext tensorboard\n"
     ]
    },
    {
     "data": {
      "text/plain": [
       "Reusing TensorBoard on port 6006 (pid 11937), started 1:26:55 ago. (Use '!kill 11937' to kill it.)"
      ]
     },
     "metadata": {},
     "output_type": "display_data"
    },
    {
     "data": {
      "text/html": [
       "\n",
       "      <iframe id=\"tensorboard-frame-4b81cd3c3d5adac9\" width=\"100%\" height=\"800\" frameborder=\"0\">\n",
       "      </iframe>\n",
       "      <script>\n",
       "        (function() {\n",
       "          const frame = document.getElementById(\"tensorboard-frame-4b81cd3c3d5adac9\");\n",
       "          const url = new URL(\"/\", window.location);\n",
       "          url.port = 6006;\n",
       "          frame.src = url;\n",
       "        })();\n",
       "      </script>\n",
       "  "
      ],
      "text/plain": [
       "<IPython.core.display.HTML object>"
      ]
     },
     "metadata": {},
     "output_type": "display_data"
    }
   ],
   "source": [
    "%load_ext tensorboard\n",
    "%tensorboard --logdir runs"
   ]
  },
  {
   "cell_type": "code",
   "execution_count": 80,
   "metadata": {},
   "outputs": [],
   "source": [
    "def file_filter_2_tag(f):\n",
    "    config_files = list(Path(\"runs\").rglob(\"*config.yaml\"))\n",
    "    tags = \"\"\n",
    "    for config_file in config_files:\n",
    "        with open(config_file) as stream:\n",
    "            config = yaml.load(stream, Loader=yaml.Loader)\n",
    "            if f(config):\n",
    "                if tags:\n",
    "                    tags += \"|\"\n",
    "                tags += str(re.escape(str(config_file.relative_to('runs').parent.joinpath('log'))))\n",
    "    return tags  "
   ]
  },
  {
   "cell_type": "code",
   "execution_count": 81,
   "metadata": {},
   "outputs": [],
   "source": [
    "def tag_filter(config):\n",
    "    return config['is_music_data']"
   ]
  },
  {
   "cell_type": "code",
   "execution_count": 82,
   "metadata": {},
   "outputs": [
    {
     "name": "stdout",
     "output_type": "stream",
     "text": [
      "ff9350c52ad954b6547edbde62a0b58733c5a632/20200428\\-224742/log|ff9350c52ad954b6547edbde62a0b58733c5a632\\-dirty/20200428\\-230354/log|ff9350c52ad954b6547edbde62a0b58733c5a632\\-dirty/20200428\\-230025/log|ff9350c52ad954b6547edbde62a0b58733c5a632\\-dirty/20200429\\-104956/log|ff9350c52ad954b6547edbde62a0b58733c5a632\\-dirty/20200428\\-230633/log|ff9350c52ad954b6547edbde62a0b58733c5a632\\-dirty/20200429\\-105506/log|ff9350c52ad954b6547edbde62a0b58733c5a632\\-dirty/20200429\\-104516/log|ff9350c52ad954b6547edbde62a0b58733c5a632\\-dirty/20200429\\-104811/log|ff9350c52ad954b6547edbde62a0b58733c5a632\\-dirty/20200428\\-224844/log\n"
     ]
    }
   ],
   "source": [
    "print(file_filter_2_tag(tag_filter))"
   ]
  }
 ],
 "metadata": {
  "kernelspec": {
   "display_name": "Python 3",
   "language": "python",
   "name": "python3"
  },
  "language_info": {
   "codemirror_mode": {
    "name": "ipython",
    "version": 3
   },
   "file_extension": ".py",
   "mimetype": "text/x-python",
   "name": "python",
   "nbconvert_exporter": "python",
   "pygments_lexer": "ipython3",
   "version": "3.8.2"
  }
 },
 "nbformat": 4,
 "nbformat_minor": 4
}
