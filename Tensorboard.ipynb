{
 "cells": [
  {
   "cell_type": "code",
   "execution_count": 1,
   "metadata": {},
   "outputs": [],
   "source": [
    "from pathlib import Path\n",
    "import re\n",
    "import yaml"
   ]
  },
  {
   "cell_type": "code",
   "execution_count": 2,
   "metadata": {},
   "outputs": [
    {
     "data": {
      "text/html": [
       "\n",
       "      <iframe id=\"tensorboard-frame-90a3d2ca227eeed2\" width=\"100%\" height=\"800\" frameborder=\"0\">\n",
       "      </iframe>\n",
       "      <script>\n",
       "        (function() {\n",
       "          const frame = document.getElementById(\"tensorboard-frame-90a3d2ca227eeed2\");\n",
       "          const url = new URL(\"/\", window.location);\n",
       "          url.port = 6006;\n",
       "          frame.src = url;\n",
       "        })();\n",
       "      </script>\n",
       "  "
      ],
      "text/plain": [
       "<IPython.core.display.HTML object>"
      ]
     },
     "metadata": {},
     "output_type": "display_data"
    }
   ],
   "source": [
    "%load_ext tensorboard\n",
    "%tensorboard --logdir runs"
   ]
  },
  {
   "cell_type": "code",
   "execution_count": 3,
   "metadata": {},
   "outputs": [],
   "source": [
    "def file_filter_2_tag(f):\n",
    "    config_files = list(Path(\"runs\").rglob(\"*config.yaml\"))\n",
    "    tags = \"\"\n",
    "    for config_file in config_files:\n",
    "        with open(config_file) as stream:\n",
    "            config = yaml.load(stream, Loader=yaml.Loader)\n",
    "            if f(config):\n",
    "                if tags:\n",
    "                    tags += \"|\"\n",
    "                tags += str(re.escape(str(config_file.relative_to('runs').parent.joinpath('log'))))\n",
    "    return tags  "
   ]
  },
  {
   "cell_type": "code",
   "execution_count": 4,
   "metadata": {},
   "outputs": [],
   "source": [
    "def tag_filter(config):\n",
    "    return config['is_music_data']"
   ]
  },
  {
   "cell_type": "code",
   "execution_count": 5,
   "metadata": {},
   "outputs": [
    {
     "name": "stdout",
     "output_type": "stream",
     "text": [
      "ff9350c52ad954b6547edbde62a0b58733c5a632\\-dirty/20200429\\-104956/log|ff9350c52ad954b6547edbde62a0b58733c5a632\\-dirty/20200429\\-105506/log|ff9350c52ad954b6547edbde62a0b58733c5a632\\-dirty/20200429\\-104516/log|ff9350c52ad954b6547edbde62a0b58733c5a632\\-dirty/20200429\\-104811/log|49b1df8786702568d88efc00e30cec550e9ec40a\\-dirty/20200430\\-123911/log|49b1df8786702568d88efc00e30cec550e9ec40a\\-dirty/20200430\\-133304/log|49b1df8786702568d88efc00e30cec550e9ec40a\\-dirty/20200430\\-133740/log|49b1df8786702568d88efc00e30cec550e9ec40a\\-dirty/20200503\\-184420/log|49b1df8786702568d88efc00e30cec550e9ec40a\\-dirty/20200430\\-122929/log|49b1df8786702568d88efc00e30cec550e9ec40a\\-dirty/20200430\\-124125/log|49b1df8786702568d88efc00e30cec550e9ec40a\\-dirty/20200503\\-184356/log|49b1df8786702568d88efc00e30cec550e9ec40a\\-dirty/20200430\\-130909/log|49b1df8786702568d88efc00e30cec550e9ec40a\\-dirty/20200503\\-174843/log|49b1df8786702568d88efc00e30cec550e9ec40a\\-dirty/20200430\\-123103/log|49b1df8786702568d88efc00e30cec550e9ec40a\\-dirty/20200430\\-135556/log\n"
     ]
    }
   ],
   "source": [
    "print(file_filter_2_tag(tag_filter))"
   ]
  },
  {
   "cell_type": "code",
   "execution_count": 81,
   "metadata": {},
   "outputs": [],
   "source": [
    "from nltk.translate.bleu_score import sentence_bleu, corpus_bleu,  SmoothingFunction\n",
    "import numpy as np\n",
    "smoother = SmoothingFunction()\n",
    "bleu_avg = 0\n",
    "\n",
    "references = [[\"there\",\"is\",\"a\",\"cat\",\"on\",\"the\",\"mat\"],[\"the\" ,\"cat\",\"is\",\"on\",\"the\",\"mat\"],]\n",
    "hypotheses = [[\"the\", \"the\", \"cat\"],[\"there\", \"is\", \"a\", \"cat\"]]\n",
    "\n",
    "hyp_i = 1\n",
    "bleu =  sentence_bleu(references, hypotheses[hyp_i], weights=[1.0]) # smoothing_function=smoother.method4)\n",
    "bleu_corp = corpus_bleu(references, hypotheses, weights=[1.0]) \n",
    "#bleu = 0.\n",
    "# calculate bleu for each predicted seq\n",
    "# compare each predicted seq with the entire references\n",
    "# this is slow, use multiprocess\n",
    "#def calc_sentence_bleu(hypothesis):\n",
    "#    return sentence_bleu(references, hypothesis, smoothing_function=smoother.method4)"
   ]
  },
  {
   "cell_type": "code",
   "execution_count": 82,
   "metadata": {},
   "outputs": [
    {
     "data": {
      "text/plain": [
       "['there', 'is', 'a', 'cat']"
      ]
     },
     "execution_count": 82,
     "metadata": {},
     "output_type": "execute_result"
    }
   ],
   "source": [
    "hypotheses[hyp_i]"
   ]
  },
  {
   "cell_type": "raw",
   "metadata": {},
   "source": [
    "r is the shortest reference sentance "
   ]
  },
  {
   "cell_type": "code",
   "execution_count": 83,
   "metadata": {},
   "outputs": [],
   "source": [
    "r = 6"
   ]
  },
  {
   "cell_type": "code",
   "execution_count": 52,
   "metadata": {},
   "outputs": [
    {
     "data": {
      "text/plain": [
       "0.14285714285714285"
      ]
     },
     "execution_count": 52,
     "metadata": {},
     "output_type": "execute_result"
    }
   ],
   "source": [
    "bleu_corp"
   ]
  },
  {
   "cell_type": "code",
   "execution_count": 53,
   "metadata": {},
   "outputs": [
    {
     "data": {
      "text/plain": [
       "0.6065306597126334"
      ]
     },
     "execution_count": 53,
     "metadata": {},
     "output_type": "execute_result"
    }
   ],
   "source": [
    "BP = np.exp(1-6/4)\n",
    "BP"
   ]
  },
  {
   "cell_type": "code",
   "execution_count": 49,
   "metadata": {},
   "outputs": [
    {
     "data": {
      "text/plain": [
       "1.0"
      ]
     },
     "execution_count": 49,
     "metadata": {},
     "output_type": "execute_result"
    }
   ],
   "source": [
    "bleu/BP"
   ]
  },
  {
   "cell_type": "code",
   "execution_count": 84,
   "metadata": {},
   "outputs": [
    {
     "data": {
      "text/plain": [
       "0.48954165955695317"
      ]
     },
     "execution_count": 84,
     "metadata": {},
     "output_type": "execute_result"
    }
   ],
   "source": [
    "np.exp(1- (r+r)/(3+4))"
   ]
  },
  {
   "cell_type": "code",
   "execution_count": 86,
   "metadata": {},
   "outputs": [
    {
     "data": {
      "text/plain": [
       "0.48954165955695317"
      ]
     },
     "execution_count": 86,
     "metadata": {},
     "output_type": "execute_result"
    }
   ],
   "source": [
    "BP_corp = np.exp(1- (r+r)/(3+4))\n",
    "BP_corp"
   ]
  },
  {
   "cell_type": "code",
   "execution_count": 87,
   "metadata": {},
   "outputs": [
    {
     "data": {
      "text/plain": [
       "0.2918181528951631"
      ]
     },
     "execution_count": 87,
     "metadata": {},
     "output_type": "execute_result"
    }
   ],
   "source": [
    "bleu_corp/BP_corp"
   ]
  },
  {
   "cell_type": "code",
   "execution_count": 28,
   "metadata": {},
   "outputs": [
    {
     "data": {
      "text/plain": [
       "1.1666666666666667"
      ]
     },
     "execution_count": 28,
     "metadata": {},
     "output_type": "execute_result"
    }
   ],
   "source": [
    "((2+1)+(1+1+1+1))/(3+3)"
   ]
  },
  {
   "cell_type": "code",
   "execution_count": 16,
   "metadata": {},
   "outputs": [
    {
     "data": {
      "text/plain": [
       "13"
      ]
     },
     "execution_count": 16,
     "metadata": {},
     "output_type": "execute_result"
    }
   ],
   "source": [
    "sum([len(ref) for ref in references])"
   ]
  },
  {
   "cell_type": "code",
   "execution_count": 17,
   "metadata": {},
   "outputs": [
    {
     "data": {
      "text/plain": [
       "(1.0, 1.0)"
      ]
     },
     "execution_count": 17,
     "metadata": {},
     "output_type": "execute_result"
    }
   ],
   "source": [
    "(1.0,1.0)"
   ]
  }
 ],
 "metadata": {
  "kernelspec": {
   "display_name": "Python 3",
   "language": "python",
   "name": "python3"
  },
  "language_info": {
   "codemirror_mode": {
    "name": "ipython",
    "version": 3
   },
   "file_extension": ".py",
   "mimetype": "text/x-python",
   "name": "python",
   "nbconvert_exporter": "python",
   "pygments_lexer": "ipython3",
   "version": "3.8.2"
  }
 },
 "nbformat": 4,
 "nbformat_minor": 4
}
