{
 "cells": [
  {
   "cell_type": "code",
   "execution_count": 1,
   "metadata": {},
   "outputs": [],
   "source": [
    "%load_ext autoreload\n",
    "%autoreload 2"
   ]
  },
  {
   "cell_type": "code",
   "execution_count": 2,
   "metadata": {},
   "outputs": [],
   "source": [
    "from pathlib import Path\n",
    "import re\n",
    "import yaml\n",
    "import shutil\n",
    "import numpy as np\n",
    "import matplotlib.pyplot as plt\n",
    "import tensorflow as tf\n",
    "from sequence_gan_max_ent_tab import init\n",
    "from postprocessing import write_sample\n",
    "import os\n",
    "import pickle"
   ]
  },
  {
   "cell_type": "code",
   "execution_count": 3,
   "metadata": {},
   "outputs": [
    {
     "data": {
      "text/html": [
       "\n",
       "      <iframe id=\"tensorboard-frame-9763a7f4fa4b44a9\" width=\"100%\" height=\"800\" frameborder=\"0\">\n",
       "      </iframe>\n",
       "      <script>\n",
       "        (function() {\n",
       "          const frame = document.getElementById(\"tensorboard-frame-9763a7f4fa4b44a9\");\n",
       "          const url = new URL(\"/\", window.location);\n",
       "          url.port = 6006;\n",
       "          frame.src = url;\n",
       "        })();\n",
       "      </script>\n",
       "  "
      ],
      "text/plain": [
       "<IPython.core.display.HTML object>"
      ]
     },
     "metadata": {},
     "output_type": "display_data"
    }
   ],
   "source": [
    "%load_ext tensorboard\n",
    "%tensorboard --logdir runs"
   ]
  },
  {
   "cell_type": "code",
   "execution_count": 93,
   "metadata": {},
   "outputs": [
    {
     "name": "stdout",
     "output_type": "stream",
     "text": [
      "error occured while removing: runs/hpc-job-log/6576590.out\n",
      "error occured while removing: runs/hpc-job-log/6576564.out\n",
      "error occured while removing: runs/hpc-job-log/6576577.out\n",
      "error occured while removing: runs/hpc-job-log/6576590.err\n",
      "error occured while removing: runs/hpc-job-log/6576564.err\n",
      "error occured while removing: runs/hpc-job-log/6576577.err\n",
      "is empty\n",
      "error occured while removing: runs/ff9350c52ad954b6547edbde62a0b58733c5a632-dirty/20200429-104956\n",
      "error occured while removing: runs/cc5ecb4ecf512321e3f37ef5ad4944dded6a9d35-dirty/20200504-103710\n",
      "error occured while removing: runs/cc5ecb4ecf512321e3f37ef5ad4944dded6a9d35-dirty/20200504-105905\n",
      "error occured while removing: runs/cc5ecb4ecf512321e3f37ef5ad4944dded6a9d35-dirty/20200504-103305\n",
      "error occured while removing: runs/cc5ecb4ecf512321e3f37ef5ad4944dded6a9d35-dirty/20200504-103833\n",
      "is empty\n"
     ]
    }
   ],
   "source": [
    "#clean empty folders\n",
    "for git_dir in Path(\"runs\").iterdir():\n",
    "    empty_folder = True\n",
    "    for run_dir in git_dir.iterdir():\n",
    "        f =  list(run_dir.rglob(\"*checkpoint*\")) + list(run_dir.rglob(\"*events.out.tfevents.*\"))\\\n",
    "                +list(run_dir.rglob(\"*out*\")) + list(run_dir.rglob(\"*err*\"))\n",
    "        if f:\n",
    "            empty_folder = False\n",
    "        else:\n",
    "            try:\n",
    "                #shutil.rmtree(run_dir)\n",
    "                #print(\"succesfully removed: {}\".format(run_dir))\n",
    "            except:\n",
    "                print(\"error occured while removing: {}\".format(run_dir))\n",
    "            \n",
    "            \n",
    "    if empty_folder :\n",
    "        print(\"is empty\")\n",
    "        #shutil.rmtree(git_dir)"
   ]
  },
  {
   "cell_type": "code",
   "execution_count": 42,
   "metadata": {},
   "outputs": [],
   "source": [
    "def config_file_filter(config_filter,path_filter=lambda x:True):\n",
    "    config_files = list(Path(\"runs\").rglob(\"*config.yaml\"))\n",
    "    file_list = []\n",
    "    for config_file in config_files:\n",
    "        if path_filter(config_file):\n",
    "            with open(config_file) as stream:\n",
    "                config = yaml.load(stream, Loader=yaml.Loader)\n",
    "                if config_filter(config):\n",
    "                    file_list.append(config_file)\n",
    "    return file_list\n",
    "def files2regex(config_files):\n",
    "    tags = \"\"\n",
    "    for config_file in config_files:\n",
    "        if tags:\n",
    "            tags += \"|\"\n",
    "        tags += str(re.escape(str(config_file.relative_to('runs').parent.joinpath('log'))))\n",
    "    return tags"
   ]
  },
  {
   "cell_type": "code",
   "execution_count": 49,
   "metadata": {},
   "outputs": [
    {
     "name": "stdout",
     "output_type": "stream",
     "text": [
      "4cf70fa3b65cac12229f02484914379fec9b2f55\\-dirty/20200512\\-172846/log|4cf70fa3b65cac12229f02484914379fec9b2f55\\-dirty/20200512\\-171258/log|4cf70fa3b65cac12229f02484914379fec9b2f55\\-dirty/20200512\\-171437/log|4cf70fa3b65cac12229f02484914379fec9b2f55\\-dirty/20200512\\-172937/log|4cf70fa3b65cac12229f02484914379fec9b2f55\\-dirty/20200512\\-171902/log|4cf70fa3b65cac12229f02484914379fec9b2f55\\-dirty/20200512\\-171924/log|4cf70fa3b65cac12229f02484914379fec9b2f55\\-dirty/20200512\\-171708/log\n"
     ]
    }
   ],
   "source": [
    "def config_filter(config):\n",
    "    return config['is_music_data']\n",
    "def path_filter(path):\n",
    "    return str(path).find(\"4cf70fa3b65cac12229f02484914379fec9b2f55-dirty/20200512\") != -1 \n",
    "print(\n",
    "    files2regex(\n",
    "        config_file_filter(config_filter,path_filter)\n",
    "    )\n",
    ")"
   ]
  },
  {
   "cell_type": "code",
   "execution_count": 63,
   "metadata": {},
   "outputs": [
    {
     "name": "stdout",
     "output_type": "stream",
     "text": [
      "0.0001\n"
     ]
    }
   ],
   "source": [
    "#with open('runs/4cf70fa3b65cac12229f02484914379fec9b2f55-dirty/20200512-172937/config.yaml') as stream: #0.5 ent, good lr normal orange\n",
    "#with open('runs/4cf70fa3b65cac12229f02484914379fec9b2f55-dirty/20200512-171924/config.yaml') as stream: # green\n",
    "with open('runs/4cf70fa3b65cac12229f02484914379fec9b2f55-dirty/20200512-172846/config.yaml') as stream: #grey\n",
    "    config = yaml.load(stream, Loader=yaml.Loader)\n",
    "    print(config['generator_lr'])"
   ]
  },
  {
   "cell_type": "markdown",
   "metadata": {},
   "source": [
    "# Load model"
   ]
  },
  {
   "cell_type": "code",
   "execution_count": 46,
   "metadata": {},
   "outputs": [
    {
     "ename": "KeyError",
     "evalue": "'rewards_reduced_variance'",
     "output_type": "error",
     "traceback": [
      "\u001b[0;31m---------------------------------------------------------------------------\u001b[0m",
      "\u001b[0;31mKeyError\u001b[0m                                  Traceback (most recent call last)",
      "\u001b[0;32m<ipython-input-46-50327315f90b>\u001b[0m in \u001b[0;36m<module>\u001b[0;34m\u001b[0m\n\u001b[1;32m      1\u001b[0m \u001b[0mrun\u001b[0m \u001b[0;34m=\u001b[0m \u001b[0;34m'runs/49b1df8786702568d88efc00e30cec550e9ec40a-dirty/20200503-184420'\u001b[0m\u001b[0;34m\u001b[0m\u001b[0;34m\u001b[0m\u001b[0m\n\u001b[1;32m      2\u001b[0m \u001b[0mtf\u001b[0m\u001b[0;34m.\u001b[0m\u001b[0mcompat\u001b[0m\u001b[0;34m.\u001b[0m\u001b[0mv1\u001b[0m\u001b[0;34m.\u001b[0m\u001b[0mreset_default_graph\u001b[0m\u001b[0;34m(\u001b[0m\u001b[0;34m)\u001b[0m\u001b[0;34m\u001b[0m\u001b[0;34m\u001b[0m\u001b[0m\n\u001b[0;32m----> 3\u001b[0;31m \u001b[0mgan_trainer\u001b[0m\u001b[0;34m,\u001b[0m \u001b[0mconfig\u001b[0m \u001b[0;34m=\u001b[0m \u001b[0minit\u001b[0m\u001b[0;34m(\u001b[0m\u001b[0mrun\u001b[0m \u001b[0;34m+\u001b[0m \u001b[0;34m'/config.yaml'\u001b[0m\u001b[0;34m)\u001b[0m\u001b[0;34m\u001b[0m\u001b[0;34m\u001b[0m\u001b[0m\n\u001b[0m\u001b[1;32m      4\u001b[0m \u001b[0msaver\u001b[0m \u001b[0;34m=\u001b[0m \u001b[0mtf\u001b[0m\u001b[0;34m.\u001b[0m\u001b[0mcompat\u001b[0m\u001b[0;34m.\u001b[0m\u001b[0mv1\u001b[0m\u001b[0;34m.\u001b[0m\u001b[0mtrain\u001b[0m\u001b[0;34m.\u001b[0m\u001b[0mSaver\u001b[0m\u001b[0;34m(\u001b[0m\u001b[0;34m)\u001b[0m\u001b[0;34m\u001b[0m\u001b[0;34m\u001b[0m\u001b[0m\n\u001b[1;32m      5\u001b[0m \u001b[0mtf_config\u001b[0m \u001b[0;34m=\u001b[0m \u001b[0mtf\u001b[0m\u001b[0;34m.\u001b[0m\u001b[0mcompat\u001b[0m\u001b[0;34m.\u001b[0m\u001b[0mv1\u001b[0m\u001b[0;34m.\u001b[0m\u001b[0mConfigProto\u001b[0m\u001b[0;34m(\u001b[0m\u001b[0;34m)\u001b[0m\u001b[0;34m\u001b[0m\u001b[0;34m\u001b[0m\u001b[0m\n",
      "\u001b[0;32m~/courses/music/coding/seqGAN/max-entropy/SeqGAN_v2/sequence_gan_max_ent_tab.py\u001b[0m in \u001b[0;36minit\u001b[0;34m(config_file)\u001b[0m\n\u001b[1;32m     48\u001b[0m     \u001b[0mGENERATOR_LR\u001b[0m \u001b[0;34m=\u001b[0m \u001b[0mconfig\u001b[0m\u001b[0;34m[\u001b[0m\u001b[0;34m'generator_lr'\u001b[0m\u001b[0;34m]\u001b[0m\u001b[0;34m\u001b[0m\u001b[0;34m\u001b[0m\u001b[0m\n\u001b[1;32m     49\u001b[0m     \u001b[0mnormalize_rewards\u001b[0m \u001b[0;34m=\u001b[0m \u001b[0mconfig\u001b[0m\u001b[0;34m[\u001b[0m\u001b[0;34m'rewards_normalize'\u001b[0m\u001b[0;34m]\u001b[0m\u001b[0;34m\u001b[0m\u001b[0;34m\u001b[0m\u001b[0m\n\u001b[0;32m---> 50\u001b[0;31m     \u001b[0mrewards_reduced_variance\u001b[0m \u001b[0;34m=\u001b[0m \u001b[0mconfig\u001b[0m\u001b[0;34m[\u001b[0m\u001b[0;34m'rewards_reduced_variance'\u001b[0m\u001b[0;34m]\u001b[0m\u001b[0;34m\u001b[0m\u001b[0;34m\u001b[0m\u001b[0m\n\u001b[0m\u001b[1;32m     51\u001b[0m     \u001b[0mrandom\u001b[0m\u001b[0;34m.\u001b[0m\u001b[0mseed\u001b[0m\u001b[0;34m(\u001b[0m\u001b[0mSEED\u001b[0m\u001b[0;34m)\u001b[0m\u001b[0;34m\u001b[0m\u001b[0;34m\u001b[0m\u001b[0m\n\u001b[1;32m     52\u001b[0m     \u001b[0mnp\u001b[0m\u001b[0;34m.\u001b[0m\u001b[0mrandom\u001b[0m\u001b[0;34m.\u001b[0m\u001b[0mseed\u001b[0m\u001b[0;34m(\u001b[0m\u001b[0mSEED\u001b[0m\u001b[0;34m)\u001b[0m\u001b[0;34m\u001b[0m\u001b[0;34m\u001b[0m\u001b[0m\n",
      "\u001b[0;31mKeyError\u001b[0m: 'rewards_reduced_variance'"
     ]
    }
   ],
   "source": [
    "run = 'runs/49b1df8786702568d88efc00e30cec550e9ec40a-dirty/20200503-184420'\n",
    "tf.compat.v1.reset_default_graph()\n",
    "gan_trainer, config = init(run + '/config.yaml')\n",
    "saver = tf.compat.v1.train.Saver()\n",
    "tf_config = tf.compat.v1.ConfigProto()\n",
    "tf_config.gpu_options.allow_growth = True\n",
    "sess = tf.compat.v1.Session(config=tf_config)\n",
    "saver.restore(sess, run + '/model/advtrain')"
   ]
  },
  {
   "cell_type": "markdown",
   "metadata": {},
   "source": [
    "# Generator"
   ]
  },
  {
   "cell_type": "code",
   "execution_count": 28,
   "metadata": {},
   "outputs": [],
   "source": [
    "out = 'runs/91549835c94af6d3c2984e66864617a948d41b77-dirty/20200512-142933'"
   ]
  },
  {
   "cell_type": "code",
   "execution_count": 140,
   "metadata": {},
   "outputs": [],
   "source": [
    "samples = gan_trainer.generator.generate(sess)"
   ]
  },
  {
   "cell_type": "code",
   "execution_count": 160,
   "metadata": {},
   "outputs": [],
   "source": [
    "write_sample(np.array(samples[10]), out + '/midi/test.mid')"
   ]
  },
  {
   "cell_type": "markdown",
   "metadata": {},
   "source": [
    "### Train Generator for testing "
   ]
  },
  {
   "cell_type": "code",
   "execution_count": 28,
   "metadata": {},
   "outputs": [
    {
     "data": {
      "text/plain": [
       "174.12189"
      ]
     },
     "execution_count": 28,
     "metadata": {},
     "output_type": "execute_result"
    }
   ],
   "source": [
    "gan_trainer.advtrain_gen(sess,1,config['rollout_num'],config['ent_temp'])"
   ]
  },
  {
   "cell_type": "markdown",
   "metadata": {},
   "source": [
    "### BLEU Score"
   ]
  },
  {
   "cell_type": "code",
   "execution_count": 36,
   "metadata": {},
   "outputs": [
    {
     "data": {
      "text/plain": [
       "0.37656923751196036"
      ]
     },
     "execution_count": 36,
     "metadata": {},
     "output_type": "execute_result"
    }
   ],
   "source": [
    "gan_trainer.calculate_bleu(sess, gan_trainer.generator, gan_trainer.eval_data_loader)"
   ]
  },
  {
   "cell_type": "markdown",
   "metadata": {},
   "source": [
    "### LL score"
   ]
  },
  {
   "cell_type": "code",
   "execution_count": 29,
   "metadata": {},
   "outputs": [
    {
     "data": {
      "text/plain": [
       "3.8624465"
      ]
     },
     "execution_count": 29,
     "metadata": {},
     "output_type": "execute_result"
    }
   ],
   "source": [
    "gan_trainer.cross_p_q_2(sess)"
   ]
  },
  {
   "cell_type": "markdown",
   "metadata": {},
   "source": [
    "### G-loss"
   ]
  },
  {
   "cell_type": "code",
   "execution_count": 30,
   "metadata": {},
   "outputs": [
    {
     "data": {
      "text/plain": [
       "True"
      ]
     },
     "execution_count": 30,
     "metadata": {},
     "output_type": "execute_result"
    }
   ],
   "source": [
    "gan_trainer.rollout.normalize"
   ]
  },
  {
   "cell_type": "code",
   "execution_count": 25,
   "metadata": {},
   "outputs": [],
   "source": [
    "gan_trainer.rollout.update_rate = 0\n",
    "gan_trainer.rewards_reduced_variance = False"
   ]
  },
  {
   "cell_type": "code",
   "execution_count": 12,
   "metadata": {},
   "outputs": [],
   "source": [
    "samples = gan_trainer.generator.generate(sess)"
   ]
  },
  {
   "cell_type": "code",
   "execution_count": 69,
   "metadata": {},
   "outputs": [],
   "source": [
    "rewards = gan_trainer.rollout.get_reward(sess, samples, config['rollout_num'], gan_trainer.discriminator, ent_temp=config['ent_temp'])"
   ]
  },
  {
   "cell_type": "code",
   "execution_count": 32,
   "metadata": {},
   "outputs": [],
   "source": [
    "rewards2 = gan_trainer.rollout.get_reward_2(sess, samples, config['rollout_num'], gan_trainer.discriminator, ent_temp=config['ent_temp'])"
   ]
  },
  {
   "cell_type": "code",
   "execution_count": 64,
   "metadata": {},
   "outputs": [
    {
     "data": {
      "text/plain": [
       "array([[0.39245725, 0.3924575 , 0.39245752, ..., 0.392457  , 0.39245725,\n",
       "        0.39245737],\n",
       "       [0.27170154, 0.27170166, 0.2717017 , ..., 0.27170137, 0.27170163,\n",
       "        0.27170157],\n",
       "       [0.3320792 , 0.33207935, 0.3320793 , ..., 0.33207914, 0.33207935,\n",
       "        0.33207932],\n",
       "       ...,\n",
       "       [0.39245415, 0.3924542 , 0.39245433, ..., 0.3924543 , 0.39245418,\n",
       "        0.39245412],\n",
       "       [0.2113207 , 0.21132076, 0.21132089, ..., 0.21132082, 0.2113207 ,\n",
       "        0.21132056],\n",
       "       [0.33207622, 0.33207628, 0.3320763 , ..., 0.33207634, 0.33207607,\n",
       "        0.33207598]], dtype=float32)"
      ]
     },
     "execution_count": 64,
     "metadata": {},
     "output_type": "execute_result"
    }
   ],
   "source": [
    "rewards"
   ]
  },
  {
   "cell_type": "code",
   "execution_count": 66,
   "metadata": {},
   "outputs": [
    {
     "data": {
      "text/plain": [
       "-4.437767"
      ]
     },
     "execution_count": 66,
     "metadata": {},
     "output_type": "execute_result"
    }
   ],
   "source": [
    "np.min(rewards)"
   ]
  },
  {
   "cell_type": "code",
   "execution_count": 103,
   "metadata": {},
   "outputs": [],
   "source": [
    "gen = gan_trainer.generator\n",
    "feed = {gan_trainer.generator.x: gan_trainer.generator.generate(sess),\n",
    "             gan_trainer.generator.rewards: rewards}\n",
    "grads_op = tf.gradients(gan_trainer.generator.g_loss, gan_trainer.generator.g_params) \n",
    "grads = sess.run(grads_op,\n",
    "         feed)\n",
    "\n",
    "#sess.run(tf.norm(tf.clip_by_global_norm(tf.gradients(gan_trainer.generator.g_loss, gan_trainer.generator.g_params)\n",
    "#                               ,5.0)[0][10]),feed)\n",
    "#sess.run(g_opt.apply_gradients(list(zip(\n",
    "#    tf.clip_by_global_norm(tf.gradients(gen.g_loss, gen.g_params)[0], gen.grad_clip)\n",
    "#    , gen.g_params\n",
    "#))),feed)"
   ]
  },
  {
   "cell_type": "code",
   "execution_count": 105,
   "metadata": {},
   "outputs": [],
   "source": [
    "clipped_grad, glob_norm = sess.run(tf.clip_by_global_norm(grads_op,5.0),feed)\n"
   ]
  },
  {
   "cell_type": "code",
   "execution_count": 106,
   "metadata": {},
   "outputs": [
    {
     "data": {
      "text/plain": [
       "2336.6118"
      ]
     },
     "execution_count": 106,
     "metadata": {},
     "output_type": "execute_result"
    }
   ],
   "source": [
    "glob_norm"
   ]
  },
  {
   "cell_type": "code",
   "execution_count": null,
   "metadata": {},
   "outputs": [],
   "source": [
    "glob_norm"
   ]
  },
  {
   "cell_type": "code",
   "execution_count": 102,
   "metadata": {},
   "outputs": [
    {
     "ename": "AttributeError",
     "evalue": "'IndexedSlicesValue' object has no attribute 'shape'",
     "output_type": "error",
     "traceback": [
      "\u001b[0;31m---------------------------------------------------------------------------\u001b[0m",
      "\u001b[0;31mAttributeError\u001b[0m                            Traceback (most recent call last)",
      "\u001b[0;32m<ipython-input-102-ad3221a6dbe7>\u001b[0m in \u001b[0;36m<module>\u001b[0;34m\u001b[0m\n\u001b[0;32m----> 1\u001b[0;31m \u001b[0mgrads\u001b[0m\u001b[0;34m[\u001b[0m\u001b[0;36m0\u001b[0m\u001b[0;34m]\u001b[0m\u001b[0;34m.\u001b[0m\u001b[0mshape\u001b[0m\u001b[0;34m\u001b[0m\u001b[0;34m\u001b[0m\u001b[0m\n\u001b[0m",
      "\u001b[0;31mAttributeError\u001b[0m: 'IndexedSlicesValue' object has no attribute 'shape'"
     ]
    }
   ],
   "source": [
    "grads[0].shape"
   ]
  },
  {
   "cell_type": "code",
   "execution_count": 99,
   "metadata": {},
   "outputs": [
    {
     "data": {
      "text/plain": [
       "(3,)"
      ]
     },
     "execution_count": 99,
     "metadata": {},
     "output_type": "execute_result"
    }
   ],
   "source": [
    "(np.square(grads[0])).shape"
   ]
  },
  {
   "cell_type": "code",
   "execution_count": 96,
   "metadata": {},
   "outputs": [
    {
     "ename": "ValueError",
     "evalue": "operands could not be broadcast together with shapes (3232,32) (3232,) ",
     "output_type": "error",
     "traceback": [
      "\u001b[0;31m---------------------------------------------------------------------------\u001b[0m",
      "\u001b[0;31mValueError\u001b[0m                                Traceback (most recent call last)",
      "\u001b[0;32m<ipython-input-96-f2f6a4b60882>\u001b[0m in \u001b[0;36m<module>\u001b[0;34m\u001b[0m\n\u001b[1;32m      1\u001b[0m \u001b[0mss\u001b[0m \u001b[0;34m=\u001b[0m \u001b[0;36m0\u001b[0m\u001b[0;34m\u001b[0m\u001b[0;34m\u001b[0m\u001b[0m\n\u001b[1;32m      2\u001b[0m \u001b[0;32mfor\u001b[0m \u001b[0mgrad\u001b[0m \u001b[0;32min\u001b[0m \u001b[0mgrads\u001b[0m\u001b[0;34m:\u001b[0m\u001b[0;34m\u001b[0m\u001b[0;34m\u001b[0m\u001b[0m\n\u001b[0;32m----> 3\u001b[0;31m     \u001b[0mss\u001b[0m \u001b[0;34m+=\u001b[0m \u001b[0mnp\u001b[0m\u001b[0;34m.\u001b[0m\u001b[0msum\u001b[0m\u001b[0;34m(\u001b[0m\u001b[0mnp\u001b[0m\u001b[0;34m.\u001b[0m\u001b[0msquare\u001b[0m\u001b[0;34m(\u001b[0m\u001b[0mgrad\u001b[0m\u001b[0;34m)\u001b[0m\u001b[0;34m)\u001b[0m\u001b[0;34m\u001b[0m\u001b[0;34m\u001b[0m\u001b[0m\n\u001b[0m\u001b[1;32m      4\u001b[0m \u001b[0mnp\u001b[0m\u001b[0;34m.\u001b[0m\u001b[0msqrt\u001b[0m\u001b[0;34m(\u001b[0m\u001b[0mss\u001b[0m\u001b[0;34m)\u001b[0m\u001b[0;34m\u001b[0m\u001b[0;34m\u001b[0m\u001b[0m\n",
      "\u001b[0;32m<__array_function__ internals>\u001b[0m in \u001b[0;36msum\u001b[0;34m(*args, **kwargs)\u001b[0m\n",
      "\u001b[0;32m~/.local/lib/python3.8/site-packages/numpy/core/fromnumeric.py\u001b[0m in \u001b[0;36msum\u001b[0;34m(a, axis, dtype, out, keepdims, initial, where)\u001b[0m\n\u001b[1;32m   2226\u001b[0m         \u001b[0;32mreturn\u001b[0m \u001b[0mres\u001b[0m\u001b[0;34m\u001b[0m\u001b[0;34m\u001b[0m\u001b[0m\n\u001b[1;32m   2227\u001b[0m \u001b[0;34m\u001b[0m\u001b[0m\n\u001b[0;32m-> 2228\u001b[0;31m     return _wrapreduction(a, np.add, 'sum', axis, dtype, out, keepdims=keepdims,\n\u001b[0m\u001b[1;32m   2229\u001b[0m                           initial=initial, where=where)\n\u001b[1;32m   2230\u001b[0m \u001b[0;34m\u001b[0m\u001b[0m\n",
      "\u001b[0;32m~/.local/lib/python3.8/site-packages/numpy/core/fromnumeric.py\u001b[0m in \u001b[0;36m_wrapreduction\u001b[0;34m(obj, ufunc, method, axis, dtype, out, **kwargs)\u001b[0m\n\u001b[1;32m     88\u001b[0m                 \u001b[0;32mreturn\u001b[0m \u001b[0mreduction\u001b[0m\u001b[0;34m(\u001b[0m\u001b[0maxis\u001b[0m\u001b[0;34m=\u001b[0m\u001b[0maxis\u001b[0m\u001b[0;34m,\u001b[0m \u001b[0mout\u001b[0m\u001b[0;34m=\u001b[0m\u001b[0mout\u001b[0m\u001b[0;34m,\u001b[0m \u001b[0;34m**\u001b[0m\u001b[0mpasskwargs\u001b[0m\u001b[0;34m)\u001b[0m\u001b[0;34m\u001b[0m\u001b[0;34m\u001b[0m\u001b[0m\n\u001b[1;32m     89\u001b[0m \u001b[0;34m\u001b[0m\u001b[0m\n\u001b[0;32m---> 90\u001b[0;31m     \u001b[0;32mreturn\u001b[0m \u001b[0mufunc\u001b[0m\u001b[0;34m.\u001b[0m\u001b[0mreduce\u001b[0m\u001b[0;34m(\u001b[0m\u001b[0mobj\u001b[0m\u001b[0;34m,\u001b[0m \u001b[0maxis\u001b[0m\u001b[0;34m,\u001b[0m \u001b[0mdtype\u001b[0m\u001b[0;34m,\u001b[0m \u001b[0mout\u001b[0m\u001b[0;34m,\u001b[0m \u001b[0;34m**\u001b[0m\u001b[0mpasskwargs\u001b[0m\u001b[0;34m)\u001b[0m\u001b[0;34m\u001b[0m\u001b[0;34m\u001b[0m\u001b[0m\n\u001b[0m\u001b[1;32m     91\u001b[0m \u001b[0;34m\u001b[0m\u001b[0m\n\u001b[1;32m     92\u001b[0m \u001b[0;34m\u001b[0m\u001b[0m\n",
      "\u001b[0;31mValueError\u001b[0m: operands could not be broadcast together with shapes (3232,32) (3232,) "
     ]
    }
   ],
   "source": [
    "ss = 0\n",
    "for grad in grads:\n",
    "    ss += np.sum(np.square(grad))\n",
    "np.sqrt(ss)"
   ]
  },
  {
   "cell_type": "code",
   "execution_count": 72,
   "metadata": {},
   "outputs": [
    {
     "data": {
      "text/plain": [
       "dtype('float32')"
      ]
     },
     "execution_count": 72,
     "metadata": {},
     "output_type": "execute_result"
    }
   ],
   "source": [
    "rewards.dtype"
   ]
  },
  {
   "cell_type": "code",
   "execution_count": 64,
   "metadata": {},
   "outputs": [
    {
     "data": {
      "text/plain": [
       "345.50574"
      ]
     },
     "execution_count": 64,
     "metadata": {},
     "output_type": "execute_result"
    }
   ],
   "source": [
    "feed = {gan_trainer.generator.x: samples, gan_trainer.generator.rewards: rewards}\n",
    "sess.run(gan_trainer.generator.g_loss, feed_dict=feed)"
   ]
  },
  {
   "cell_type": "markdown",
   "metadata": {},
   "source": [
    " on same sample \n",
    "using normalize\n",
    "rollout 32:\n",
    "345.50574\n",
    "199.06557\n",
    "rollout 1: 107.4561"
   ]
  },
  {
   "cell_type": "code",
   "execution_count": 52,
   "metadata": {},
   "outputs": [
    {
     "data": {
      "text/plain": [
       "array([ 1.5032589e-03, -2.7861893e-03, -2.6963770e-02, -8.5195899e-03,\n",
       "       -8.8212788e-03,  6.9578290e-03, -2.1509603e-03,  1.3257410e-02,\n",
       "        1.4136843e-02, -3.4468770e-03, -2.1138713e-03, -3.9737746e-03,\n",
       "        2.4257302e-03,  2.5183123e-02,  3.5549775e-02,  1.5003920e-02,\n",
       "        1.8955112e-02,  4.0849075e-03,  2.5410801e-02, -1.1112392e-03,\n",
       "        1.5194207e-02, -8.3371997e-04, -5.7371065e-02, -6.2846392e-04,\n",
       "        7.4505806e-09, -1.5395284e-03,  5.5132806e-04, -7.1117692e-03,\n",
       "       -4.3213367e-03,  3.1592436e-03,  1.3136119e-02,  1.0881277e-02,\n",
       "        8.4388256e-04,  3.1807654e-02,  4.9584210e-03, -3.3264607e-03,\n",
       "        2.6755035e-03, -7.9460517e-03, -6.1948672e-03,  8.9965761e-04,\n",
       "        6.2675327e-03, -3.6852956e-03,  4.1498691e-03,  1.5313178e-03,\n",
       "       -1.0355890e-02,  4.9601123e-03, -4.5971349e-03, -4.0403232e-03,\n",
       "       -1.1131145e-02,  1.2039304e-02,  2.3280457e-03, -1.0720149e-02,\n",
       "        5.3905845e-03,  1.1411607e-03,  3.2376722e-03,  1.7032862e-02,\n",
       "       -2.4860576e-03,  1.6670376e-03,  6.4682737e-03,  1.3971049e-02,\n",
       "       -2.4146214e-03, -3.7239790e-03, -1.1420146e-02,  3.6620200e-03,\n",
       "        3.0010652e-02,  5.3041428e-04,  1.7889265e-02, -3.3033788e-03,\n",
       "        4.1577518e-03,  9.8382905e-03,  2.7155876e-03, -5.9700832e-03,\n",
       "        6.0902536e-03, -8.2782656e-04,  1.8330891e-02, -2.8005868e-02,\n",
       "        8.6132884e-03,  2.8878972e-03,  2.3308568e-02,  2.9496931e-02,\n",
       "        2.1997631e-02, -1.1173040e-03, -9.5288604e-03, -1.2348741e-03,\n",
       "       -3.3032209e-02,  0.0000000e+00, -3.0479260e-02, -8.1492737e-03,\n",
       "       -1.0768250e-02, -4.3381609e-02, -5.6160174e-02, -4.5149591e-02,\n",
       "       -6.5085843e-02, -3.5652503e-02, -4.2538159e-03,  2.9038705e-02,\n",
       "        3.5084270e-02, -2.3414627e-02,  2.0191520e-03, -4.3812774e-02],\n",
       "      dtype=float32)"
      ]
     },
     "execution_count": 52,
     "metadata": {},
     "output_type": "execute_result"
    }
   ],
   "source": [
    "np.mean(rewards,axis=0)"
   ]
  },
  {
   "cell_type": "markdown",
   "metadata": {},
   "source": [
    "# Discriminator"
   ]
  },
  {
   "cell_type": "code",
   "execution_count": 40,
   "metadata": {},
   "outputs": [
    {
     "name": "stdout",
     "output_type": "stream",
     "text": [
      "nll: 9.007888793945312\n",
      "Probability of True positive: [1.         0.99999976 1.         1.         0.9999988  0.99999833\n",
      " 1.         0.9999999  1.         0.99999726 0.9999919  0.99999833\n",
      " 1.         0.9999999  0.9999999  1.        ]\n",
      "Probability of True negative: [2.94108759e-07 1.82739029e-06 1.62054661e-07 2.02947533e-07\n",
      " 1.69242576e-08 1.38412375e-08 1.69878955e-09 2.19157179e-10\n",
      " 4.96180519e-09 2.43527751e-07 3.39326767e-09 1.34033922e-08\n",
      " 8.49034052e-08 1.65241133e-07 5.52989876e-10 9.90389715e-12]\n",
      "Precision: 0.5\n",
      "Recall: 1.0\n"
     ]
    }
   ],
   "source": [
    "discriminator = gan_trainer.discriminator\n",
    "gan_trainer.dis_data_loader.load_train_data(config['positive_file'],run + '/save/generator_sample.txt')\n",
    "x_batch, y_batch = gan_trainer.dis_data_loader.next_batch()\n",
    "feed = {\n",
    "    discriminator.input_x: x_batch,\n",
    "    discriminator.input_y: y_batch,\n",
    "    discriminator.dropout_keep_prob: 1.0\n",
    "}\n",
    "nll = sess.run(tf.nn.softmax_cross_entropy_with_logits(\n",
    "    logits=discriminator.scores, labels=discriminator.input_y\n",
    "), feed)\n",
    "print(\"nll: {}\".format(np.mean(nll)))\n",
    "probs = np.exp(-nll)\n",
    "pos_index = list(map(lambda x: (x == np.array([0,1])).all(), y_batch))\n",
    "neg_index = list(map(lambda x: (x == np.array([1,0])).all(), y_batch))\n",
    "print(\"Probability of True positive: {}\".format(probs[pos_index]))\n",
    "print(\"Probability of True negative: {}\".format(probs[neg_index]))\n",
    "TP_index = probs[pos_index] > 0.5\n",
    "TP = len((probs[pos_index])[TP_index])\n",
    "FP_index = probs[neg_index] < 0.5\n",
    "FP =  len((probs[neg_index])[FP_index])\n",
    "print(\"Precision: {}\".format(TP/(TP+FP)))\n",
    "print(\"Recall: {}\".format(TP/float(len(probs[pos_index]))))"
   ]
  },
  {
   "cell_type": "code",
   "execution_count": 271,
   "metadata": {},
   "outputs": [
    {
     "data": {
      "text/plain": [
       "1"
      ]
     },
     "execution_count": 271,
     "metadata": {},
     "output_type": "execute_result"
    }
   ],
   "source": [
    "FP_index = probs[neg_index] < 0.5\n",
    "FP =  len((probs[neg_index])[FP_index])\n",
    "FP"
   ]
  },
  {
   "cell_type": "code",
   "execution_count": 250,
   "metadata": {},
   "outputs": [
    {
     "data": {
      "text/plain": [
       "array([[  50,  135,  944, ...,    2,   38, 1839],\n",
       "       [  46,   45,   56, ...,  497,   47,    5],\n",
       "       [ 112,  504,  114, ...,  590,  173,  122],\n",
       "       ...,\n",
       "       [ 488,  944,  215, ...,   47, 2619,    4],\n",
       "       [   4,   50,   36, ...,   38,  114,  114],\n",
       "       [  35,   47,   99, ...,  111,  116,  104]])"
      ]
     },
     "execution_count": 250,
     "metadata": {},
     "output_type": "execute_result"
    }
   ],
   "source": [
    "x_batch[pos_index]"
   ]
  },
  {
   "cell_type": "code",
   "execution_count": 34,
   "metadata": {},
   "outputs": [],
   "source": [
    "feed = {\n",
    "    discriminator.input_x: x_batch,\n",
    "    discriminator.dropout_keep_prob: 1.0\n",
    "}\n",
    "predictions = sess.run(discriminator.predictions, feed)"
   ]
  },
  {
   "cell_type": "code",
   "execution_count": 35,
   "metadata": {},
   "outputs": [
    {
     "data": {
      "text/plain": [
       "array([1, 1, 1, 1, 1, 1, 1, 1, 1, 1, 1, 1])"
      ]
     },
     "execution_count": 35,
     "metadata": {},
     "output_type": "execute_result"
    }
   ],
   "source": [
    "predictions[pos_index]"
   ]
  },
  {
   "cell_type": "code",
   "execution_count": 36,
   "metadata": {},
   "outputs": [
    {
     "data": {
      "text/plain": [
       "array([1, 1, 1, 1, 1, 1, 1, 1, 1, 1, 1, 1, 1, 1, 1, 1, 1, 1, 1, 1])"
      ]
     },
     "execution_count": 36,
     "metadata": {},
     "output_type": "execute_result"
    }
   ],
   "source": [
    "predictions[neg_index]"
   ]
  },
  {
   "cell_type": "code",
   "execution_count": 168,
   "metadata": {},
   "outputs": [
    {
     "data": {
      "text/plain": [
       "0.0"
      ]
     },
     "execution_count": 168,
     "metadata": {},
     "output_type": "execute_result"
    }
   ],
   "source": [
    "np.log(1)"
   ]
  },
  {
   "cell_type": "markdown",
   "metadata": {},
   "source": [
    "# BLEU"
   ]
  },
  {
   "cell_type": "code",
   "execution_count": 108,
   "metadata": {},
   "outputs": [
    {
     "name": "stdout",
     "output_type": "stream",
     "text": [
      "ERROR: ld.so: object '/usr/lib64/libGL.so.1.2.0' from LD_PRELOAD cannot be preloaded: ignored.\n",
      "ERROR: ld.so: object '/usr/lib64/libGL.so.1.2.0' from LD_PRELOAD cannot be preloaded: ignored.\n",
      "Ep_1_test_0.mid\n"
     ]
    }
   ],
   "source": [
    "!ls 'runs/91549835c94af6d3c2984e66864617a948d41b77-dirty/20200506-133756/midi'"
   ]
  },
  {
   "cell_type": "code",
   "execution_count": 81,
   "metadata": {},
   "outputs": [],
   "source": [
    "from nltk.translate.bleu_score import sentence_bleu, corpus_bleu,  SmoothingFunction\n",
    "import numpy as np\n",
    "smoother = SmoothingFunction()\n",
    "bleu_avg = 0\n",
    "\n",
    "references = [[\"there\",\"is\",\"a\",\"cat\",\"on\",\"the\",\"mat\"],[\"the\" ,\"cat\",\"is\",\"on\",\"the\",\"mat\"],]\n",
    "hypotheses = [[\"the\", \"the\", \"cat\"],[\"there\", \"is\", \"a\", \"cat\"]]\n",
    "\n",
    "hyp_i = 1\n",
    "bleu =  sentence_bleu(references, hypotheses[hyp_i], weights=[1.0]) # smoothing_function=smoother.method4)\n",
    "bleu_corp = corpus_bleu(references, hypotheses, weights=[1.0]) \n",
    "#bleu = 0.\n",
    "# calculate bleu for each predicted seq\n",
    "# compare each predicted seq with the entire references\n",
    "# this is slow, use multiprocess\n",
    "#def calc_sentence_bleu(hypothesis):\n",
    "#    return sentence_bleu(references, hypothesis, smoothing_function=smoother.method4)"
   ]
  },
  {
   "cell_type": "code",
   "execution_count": 82,
   "metadata": {},
   "outputs": [
    {
     "data": {
      "text/plain": [
       "['there', 'is', 'a', 'cat']"
      ]
     },
     "execution_count": 82,
     "metadata": {},
     "output_type": "execute_result"
    }
   ],
   "source": [
    "hypotheses[hyp_i]"
   ]
  },
  {
   "cell_type": "raw",
   "metadata": {},
   "source": [
    "r is the shortest reference sentance "
   ]
  },
  {
   "cell_type": "code",
   "execution_count": 83,
   "metadata": {},
   "outputs": [],
   "source": [
    "r = 6"
   ]
  },
  {
   "cell_type": "code",
   "execution_count": 52,
   "metadata": {},
   "outputs": [
    {
     "data": {
      "text/plain": [
       "0.14285714285714285"
      ]
     },
     "execution_count": 52,
     "metadata": {},
     "output_type": "execute_result"
    }
   ],
   "source": [
    "bleu_corp"
   ]
  },
  {
   "cell_type": "code",
   "execution_count": 53,
   "metadata": {},
   "outputs": [
    {
     "data": {
      "text/plain": [
       "0.6065306597126334"
      ]
     },
     "execution_count": 53,
     "metadata": {},
     "output_type": "execute_result"
    }
   ],
   "source": [
    "BP = np.exp(1-6/4)\n",
    "BP"
   ]
  },
  {
   "cell_type": "code",
   "execution_count": 49,
   "metadata": {},
   "outputs": [
    {
     "data": {
      "text/plain": [
       "1.0"
      ]
     },
     "execution_count": 49,
     "metadata": {},
     "output_type": "execute_result"
    }
   ],
   "source": [
    "bleu/BP"
   ]
  },
  {
   "cell_type": "code",
   "execution_count": 84,
   "metadata": {},
   "outputs": [
    {
     "data": {
      "text/plain": [
       "0.48954165955695317"
      ]
     },
     "execution_count": 84,
     "metadata": {},
     "output_type": "execute_result"
    }
   ],
   "source": [
    "np.exp(1- (r+r)/(3+4))"
   ]
  },
  {
   "cell_type": "code",
   "execution_count": 86,
   "metadata": {},
   "outputs": [
    {
     "data": {
      "text/plain": [
       "0.48954165955695317"
      ]
     },
     "execution_count": 86,
     "metadata": {},
     "output_type": "execute_result"
    }
   ],
   "source": [
    "BP_corp = np.exp(1- (r+r)/(3+4))\n",
    "BP_corp"
   ]
  },
  {
   "cell_type": "code",
   "execution_count": 87,
   "metadata": {},
   "outputs": [
    {
     "data": {
      "text/plain": [
       "0.2918181528951631"
      ]
     },
     "execution_count": 87,
     "metadata": {},
     "output_type": "execute_result"
    }
   ],
   "source": [
    "bleu_corp/BP_corp"
   ]
  },
  {
   "cell_type": "code",
   "execution_count": 28,
   "metadata": {},
   "outputs": [
    {
     "data": {
      "text/plain": [
       "1.1666666666666667"
      ]
     },
     "execution_count": 28,
     "metadata": {},
     "output_type": "execute_result"
    }
   ],
   "source": [
    "((2+1)+(1+1+1+1))/(3+3)"
   ]
  },
  {
   "cell_type": "code",
   "execution_count": 16,
   "metadata": {},
   "outputs": [
    {
     "data": {
      "text/plain": [
       "13"
      ]
     },
     "execution_count": 16,
     "metadata": {},
     "output_type": "execute_result"
    }
   ],
   "source": [
    "sum([len(ref) for ref in references])"
   ]
  },
  {
   "cell_type": "code",
   "execution_count": 17,
   "metadata": {},
   "outputs": [
    {
     "data": {
      "text/plain": [
       "(1.0, 1.0)"
      ]
     },
     "execution_count": 17,
     "metadata": {},
     "output_type": "execute_result"
    }
   ],
   "source": [
    "(1.0,1.0)"
   ]
  },
  {
   "cell_type": "code",
   "execution_count": 5,
   "metadata": {},
   "outputs": [
    {
     "name": "stdout",
     "output_type": "stream",
     "text": [
      "ERROR: ld.so: object '/usr/lib64/libGL.so.1.2.0' from LD_PRELOAD cannot be preloaded: ignored.\n",
      "ERROR: ld.so: object '/usr/lib64/libGL.so.1.2.0' from LD_PRELOAD cannot be preloaded: ignored.\n",
      "Notthingham.zip  chords   dataset2   octaves\ttokens\tvalid\n",
      "Nottingham\t dataset  generated  prep_data\ttrain\tvalid copy\n"
     ]
    }
   ],
   "source": [
    "!ls dataset"
   ]
  },
  {
   "cell_type": "markdown",
   "metadata": {},
   "source": [
    "# Dataset "
   ]
  },
  {
   "cell_type": "code",
   "execution_count": 8,
   "metadata": {},
   "outputs": [],
   "source": [
    "train = pickle.load(open('dataset/train','rb'))"
   ]
  },
  {
   "cell_type": "code",
   "execution_count": 10,
   "metadata": {},
   "outputs": [
    {
     "data": {
      "text/plain": [
       "1400"
      ]
     },
     "execution_count": 10,
     "metadata": {},
     "output_type": "execute_result"
    }
   ],
   "source": [
    "len(train)"
   ]
  },
  {
   "cell_type": "code",
   "execution_count": 16,
   "metadata": {},
   "outputs": [
    {
     "data": {
      "text/plain": [
       "100"
      ]
     },
     "execution_count": 16,
     "metadata": {},
     "output_type": "execute_result"
    }
   ],
   "source": [
    "len(train[10])"
   ]
  },
  {
   "cell_type": "code",
   "execution_count": 23,
   "metadata": {},
   "outputs": [
    {
     "name": "stdout",
     "output_type": "stream",
     "text": [
      "ERROR: ld.so: object '/usr/lib64/libGL.so.1.2.0' from LD_PRELOAD cannot be preloaded: ignored.\n",
      "ERROR: ld.so: object '/usr/lib64/libGL.so.1.2.0' from LD_PRELOAD cannot be preloaded: ignored.\n",
      "Inspect variables.ipynb                    \u001b[0m\u001b[38;5;34mhpc_non_graphic.sh\u001b[0m*\n",
      "NONAME_6572117.out                         \u001b[38;5;34mhpc_non_graphic.sh~\u001b[0m*\n",
      "README.md                                  \u001b[38;5;27mmidi\u001b[0m/\n",
      "SeqGAN_Music.yaml~                         postprocessing.py\n",
      "Tabular multimodal train GAN simple.ipynb  requirements.txt\n",
      "Tabular multimodal train GAN.ipynb         rollout.py\n",
      "Tabular multimodal.ipynb                   rollout_max_ent.py\n",
      "Tensorboard.ipynb                          \u001b[38;5;27mruns\u001b[0m/\n",
      "\u001b[38;5;27m__pycache__\u001b[0m/                               \u001b[38;5;27msave\u001b[0m/\n",
      "\u001b[38;5;27mconfigs\u001b[0m/                                   seqgan-6572151.out\n",
      "core.8876                                  seqgan_6572151.err\n",
      "dataloader.py                              sequence_gan.py\n",
      "\u001b[38;5;27mdataset\u001b[0m/                                   sequence_gan.py.bak\n",
      "discriminator.py                           sequence_gan.py~\n",
      "\u001b[38;5;27mfigures\u001b[0m/                                   sequence_gan_max_ent_tab.py\n",
      "gan_trainer.py                             sequence_gan_max_ent_tab.py~\n",
      "gan_trainer.py~                            tabular_simple.py\n",
      "generator.py                               target_lstm.py\n",
      "generator.py.bak\n"
     ]
    }
   ],
   "source": [
    "ls"
   ]
  },
  {
   "cell_type": "code",
   "execution_count": 14,
   "metadata": {},
   "outputs": [
    {
     "name": "stdout",
     "output_type": "stream",
     "text": [
      "ERROR: ld.so: object '/usr/lib64/libGL.so.1.2.0' from LD_PRELOAD cannot be preloaded: ignored.\n",
      "ERROR: ld.so: object '/usr/lib64/libGL.so.1.2.0' from LD_PRELOAD cannot be preloaded: ignored.\n",
      "ERROR: ld.so: object '/usr/lib64/libGL.so.1.2.0' from LD_PRELOAD cannot be preloaded: ignored.\n",
      "ERROR: ld.so: object '/usr/lib64/libGL.so.1.2.0' from LD_PRELOAD cannot be preloaded: ignored.\n",
      "694\n"
     ]
    }
   ],
   "source": [
    "!ls -l dataset/Nottingham/train| egrep -c '^-'"
   ]
  },
  {
   "cell_type": "code",
   "execution_count": 22,
   "metadata": {},
   "outputs": [
    {
     "name": "stdout",
     "output_type": "stream",
     "text": [
      "ERROR: ld.so: object '/usr/lib64/libGL.so.1.2.0' from LD_PRELOAD cannot be preloaded: ignored.\n",
      "ERROR: ld.so: object '/usr/lib64/libGL.so.1.2.0' from LD_PRELOAD cannot be preloaded: ignored.\n",
      "ERROR: ld.so: object '/usr/lib64/libGL.so.1.2.0' from LD_PRELOAD cannot be preloaded: ignored.\n",
      "ERROR: ld.so: object '/usr/lib64/libGL.so.1.2.0' from LD_PRELOAD cannot be preloaded: ignored.\n",
      "173\n"
     ]
    }
   ],
   "source": [
    "!ls -l dataset/Nottingham/valid| egrep -c '^-'"
   ]
  },
  {
   "cell_type": "code",
   "execution_count": 13,
   "metadata": {},
   "outputs": [
    {
     "name": "stdout",
     "output_type": "stream",
     "text": [
      "ERROR: ld.so: object '/usr/lib64/libGL.so.1.2.0' from LD_PRELOAD cannot be preloaded: ignored.\n",
      "ERROR: ld.so: object '/usr/lib64/libGL.so.1.2.0' from LD_PRELOAD cannot be preloaded: ignored.\n",
      "ashover_simple_chords_1.mid    reels_simple_chords_120.mid\n",
      "ashover_simple_chords_12.mid   reels_simple_chords_121.mid\n",
      "ashover_simple_chords_13.mid   reels_simple_chords_122.mid\n",
      "ashover_simple_chords_14.mid   reels_simple_chords_123.mid\n",
      "ashover_simple_chords_15.mid   reels_simple_chords_126.mid\n",
      "ashover_simple_chords_18.mid   reels_simple_chords_127.mid\n",
      "ashover_simple_chords_19.mid   reels_simple_chords_128.mid\n",
      "ashover_simple_chords_2.mid    reels_simple_chords_129.mid\n",
      "ashover_simple_chords_20.mid   reels_simple_chords_13.mid\n",
      "ashover_simple_chords_21.mid   reels_simple_chords_132.mid\n",
      "ashover_simple_chords_24.mid   reels_simple_chords_133.mid\n",
      "ashover_simple_chords_25.mid   reels_simple_chords_134.mid\n",
      "ashover_simple_chords_26.mid   reels_simple_chords_135.mid\n",
      "ashover_simple_chords_27.mid   reels_simple_chords_138.mid\n",
      "ashover_simple_chords_3.mid    reels_simple_chords_139.mid\n",
      "ashover_simple_chords_30.mid   reels_simple_chords_14.mid\n",
      "ashover_simple_chords_31.mid   reels_simple_chords_140.mid\n",
      "ashover_simple_chords_32.mid   reels_simple_chords_141.mid\n",
      "ashover_simple_chords_33.mid   reels_simple_chords_144.mid\n",
      "ashover_simple_chords_36.mid   reels_simple_chords_145.mid\n",
      "ashover_simple_chords_37.mid   reels_simple_chords_146.mid\n",
      "ashover_simple_chords_38.mid   reels_simple_chords_147.mid\n",
      "ashover_simple_chords_39.mid   reels_simple_chords_15.mid\n",
      "ashover_simple_chords_42.mid   reels_simple_chords_150.mid\n",
      "ashover_simple_chords_43.mid   reels_simple_chords_151.mid\n",
      "ashover_simple_chords_44.mid   reels_simple_chords_152.mid\n",
      "ashover_simple_chords_45.mid   reels_simple_chords_153.mid\n",
      "ashover_simple_chords_6.mid    reels_simple_chords_156.mid\n",
      "ashover_simple_chords_7.mid    reels_simple_chords_157.mid\n",
      "ashover_simple_chords_8.mid    reels_simple_chords_158.mid\n",
      "ashover_simple_chords_9.mid    reels_simple_chords_159.mid\n",
      "hpps_simple_chords_1.mid       reels_simple_chords_162.mid\n",
      "hpps_simple_chords_12.mid      reels_simple_chords_163.mid\n",
      "hpps_simple_chords_13.mid      reels_simple_chords_164.mid\n",
      "hpps_simple_chords_14.mid      reels_simple_chords_165.mid\n",
      "hpps_simple_chords_15.mid      reels_simple_chords_168.mid\n",
      "hpps_simple_chords_18.mid      reels_simple_chords_169.mid\n",
      "hpps_simple_chords_19.mid      reels_simple_chords_170.mid\n",
      "hpps_simple_chords_2.mid       reels_simple_chords_171.mid\n",
      "hpps_simple_chords_20.mid      reels_simple_chords_174.mid\n",
      "hpps_simple_chords_21.mid      reels_simple_chords_175.mid\n",
      "hpps_simple_chords_24.mid      reels_simple_chords_176.mid\n",
      "hpps_simple_chords_25.mid      reels_simple_chords_177.mid\n",
      "hpps_simple_chords_26.mid      reels_simple_chords_18.mid\n",
      "hpps_simple_chords_27.mid      reels_simple_chords_180.mid\n",
      "hpps_simple_chords_3.mid       reels_simple_chords_181.mid\n",
      "hpps_simple_chords_30.mid      reels_simple_chords_182.mid\n",
      "hpps_simple_chords_31.mid      reels_simple_chords_183.mid\n",
      "hpps_simple_chords_32.mid      reels_simple_chords_186.mid\n",
      "hpps_simple_chords_33.mid      reels_simple_chords_187.mid\n",
      "hpps_simple_chords_36.mid      reels_simple_chords_188.mid\n",
      "hpps_simple_chords_37.mid      reels_simple_chords_189.mid\n",
      "hpps_simple_chords_38.mid      reels_simple_chords_19.mid\n",
      "hpps_simple_chords_39.mid      reels_simple_chords_192.mid\n",
      "hpps_simple_chords_42.mid      reels_simple_chords_193.mid\n",
      "hpps_simple_chords_43.mid      reels_simple_chords_194.mid\n",
      "hpps_simple_chords_44.mid      reels_simple_chords_195.mid\n",
      "hpps_simple_chords_45.mid      reels_simple_chords_198.mid\n",
      "hpps_simple_chords_48.mid      reels_simple_chords_199.mid\n",
      "hpps_simple_chords_49.mid      reels_simple_chords_2.mid\n",
      "hpps_simple_chords_50.mid      reels_simple_chords_20.mid\n",
      "hpps_simple_chords_51.mid      reels_simple_chords_200.mid\n",
      "hpps_simple_chords_54.mid      reels_simple_chords_201.mid\n",
      "hpps_simple_chords_55.mid      reels_simple_chords_204.mid\n",
      "hpps_simple_chords_56.mid      reels_simple_chords_205.mid\n",
      "hpps_simple_chords_57.mid      reels_simple_chords_206.mid\n",
      "hpps_simple_chords_6.mid       reels_simple_chords_207.mid\n",
      "hpps_simple_chords_60.mid      reels_simple_chords_21.mid\n",
      "hpps_simple_chords_61.mid      reels_simple_chords_210.mid\n",
      "hpps_simple_chords_62.mid      reels_simple_chords_211.mid\n",
      "hpps_simple_chords_63.mid      reels_simple_chords_212.mid\n",
      "hpps_simple_chords_7.mid       reels_simple_chords_213.mid\n",
      "hpps_simple_chords_8.mid       reels_simple_chords_216.mid\n",
      "hpps_simple_chords_9.mid       reels_simple_chords_217.mid\n",
      "jigs_simple_chords_1.mid       reels_simple_chords_218.mid\n",
      "jigs_simple_chords_102.mid     reels_simple_chords_219.mid\n",
      "jigs_simple_chords_103.mid     reels_simple_chords_222.mid\n",
      "jigs_simple_chords_104.mid     reels_simple_chords_223.mid\n",
      "jigs_simple_chords_105.mid     reels_simple_chords_224.mid\n",
      "jigs_simple_chords_108.mid     reels_simple_chords_225.mid\n",
      "jigs_simple_chords_109.mid     reels_simple_chords_228.mid\n",
      "jigs_simple_chords_110.mid     reels_simple_chords_229.mid\n",
      "jigs_simple_chords_111.mid     reels_simple_chords_230.mid\n",
      "jigs_simple_chords_114.mid     reels_simple_chords_231.mid\n",
      "jigs_simple_chords_115.mid     reels_simple_chords_234.mid\n",
      "jigs_simple_chords_116.mid     reels_simple_chords_235.mid\n",
      "jigs_simple_chords_117.mid     reels_simple_chords_236.mid\n",
      "jigs_simple_chords_12.mid      reels_simple_chords_237.mid\n",
      "jigs_simple_chords_120.mid     reels_simple_chords_24.mid\n",
      "jigs_simple_chords_121.mid     reels_simple_chords_240.mid\n",
      "jigs_simple_chords_122.mid     reels_simple_chords_241.mid\n",
      "jigs_simple_chords_123.mid     reels_simple_chords_242.mid\n",
      "jigs_simple_chords_126.mid     reels_simple_chords_243.mid\n",
      "jigs_simple_chords_127.mid     reels_simple_chords_246.mid\n",
      "jigs_simple_chords_128.mid     reels_simple_chords_247.mid\n",
      "jigs_simple_chords_129.mid     reels_simple_chords_248.mid\n",
      "jigs_simple_chords_13.mid      reels_simple_chords_249.mid\n",
      "jigs_simple_chords_132.mid     reels_simple_chords_25.mid\n",
      "jigs_simple_chords_133.mid     reels_simple_chords_252.mid\n",
      "jigs_simple_chords_134.mid     reels_simple_chords_253.mid\n",
      "jigs_simple_chords_135.mid     reels_simple_chords_254.mid\n",
      "jigs_simple_chords_138.mid     reels_simple_chords_255.mid\n",
      "jigs_simple_chords_139.mid     reels_simple_chords_258.mid\n",
      "jigs_simple_chords_14.mid      reels_simple_chords_259.mid\n",
      "jigs_simple_chords_140.mid     reels_simple_chords_26.mid\n",
      "jigs_simple_chords_141.mid     reels_simple_chords_260.mid\n",
      "jigs_simple_chords_144.mid     reels_simple_chords_261.mid\n",
      "jigs_simple_chords_145.mid     reels_simple_chords_264.mid\n",
      "jigs_simple_chords_146.mid     reels_simple_chords_265.mid\n",
      "jigs_simple_chords_147.mid     reels_simple_chords_266.mid\n",
      "jigs_simple_chords_15.mid      reels_simple_chords_267.mid\n",
      "jigs_simple_chords_150.mid     reels_simple_chords_27.mid\n",
      "jigs_simple_chords_151.mid     reels_simple_chords_270.mid\n",
      "jigs_simple_chords_152.mid     reels_simple_chords_271.mid\n",
      "jigs_simple_chords_153.mid     reels_simple_chords_272.mid\n",
      "jigs_simple_chords_156.mid     reels_simple_chords_273.mid\n",
      "jigs_simple_chords_157.mid     reels_simple_chords_276.mid\n",
      "jigs_simple_chords_158.mid     reels_simple_chords_277.mid\n",
      "jigs_simple_chords_159.mid     reels_simple_chords_278.mid\n",
      "jigs_simple_chords_162.mid     reels_simple_chords_279.mid\n",
      "jigs_simple_chords_163.mid     reels_simple_chords_282.mid\n",
      "jigs_simple_chords_164.mid     reels_simple_chords_283.mid\n",
      "jigs_simple_chords_165.mid     reels_simple_chords_284.mid\n",
      "jigs_simple_chords_168.mid     reels_simple_chords_285.mid\n",
      "jigs_simple_chords_169.mid     reels_simple_chords_288.mid\n",
      "jigs_simple_chords_170.mid     reels_simple_chords_289.mid\n",
      "jigs_simple_chords_171.mid     reels_simple_chords_290.mid\n",
      "jigs_simple_chords_174.mid     reels_simple_chords_291.mid\n",
      "jigs_simple_chords_175.mid     reels_simple_chords_294.mid\n",
      "jigs_simple_chords_176.mid     reels_simple_chords_295.mid\n",
      "jigs_simple_chords_177.mid     reels_simple_chords_296.mid\n",
      "jigs_simple_chords_18.mid      reels_simple_chords_297.mid\n",
      "jigs_simple_chords_180.mid     reels_simple_chords_3.mid\n",
      "jigs_simple_chords_181.mid     reels_simple_chords_30.mid\n",
      "jigs_simple_chords_182.mid     reels_simple_chords_300.mid\n",
      "jigs_simple_chords_183.mid     reels_simple_chords_301.mid\n",
      "jigs_simple_chords_186.mid     reels_simple_chords_302.mid\n",
      "jigs_simple_chords_187.mid     reels_simple_chords_303.mid\n",
      "jigs_simple_chords_188.mid     reels_simple_chords_306.mid\n",
      "jigs_simple_chords_189.mid     reels_simple_chords_307.mid\n",
      "jigs_simple_chords_19.mid      reels_simple_chords_308.mid\n",
      "jigs_simple_chords_192.mid     reels_simple_chords_309.mid\n",
      "jigs_simple_chords_193.mid     reels_simple_chords_31.mid\n",
      "jigs_simple_chords_194.mid     reels_simple_chords_312.mid\n",
      "jigs_simple_chords_195.mid     reels_simple_chords_313.mid\n",
      "jigs_simple_chords_198.mid     reels_simple_chords_314.mid\n",
      "jigs_simple_chords_199.mid     reels_simple_chords_315.mid\n",
      "jigs_simple_chords_2.mid       reels_simple_chords_318.mid\n",
      "jigs_simple_chords_20.mid      reels_simple_chords_319.mid\n",
      "jigs_simple_chords_200.mid     reels_simple_chords_32.mid\n",
      "jigs_simple_chords_201.mid     reels_simple_chords_320.mid\n",
      "jigs_simple_chords_204.mid     reels_simple_chords_321.mid\n",
      "jigs_simple_chords_205.mid     reels_simple_chords_324.mid\n",
      "jigs_simple_chords_206.mid     reels_simple_chords_325.mid\n",
      "jigs_simple_chords_207.mid     reels_simple_chords_326.mid\n",
      "jigs_simple_chords_21.mid      reels_simple_chords_327.mid\n",
      "jigs_simple_chords_210.mid     reels_simple_chords_33.mid\n",
      "jigs_simple_chords_211.mid     reels_simple_chords_330.mid\n",
      "jigs_simple_chords_212.mid     reels_simple_chords_331.mid\n",
      "jigs_simple_chords_213.mid     reels_simple_chords_332.mid\n",
      "jigs_simple_chords_216.mid     reels_simple_chords_333.mid\n",
      "jigs_simple_chords_217.mid     reels_simple_chords_336.mid\n",
      "jigs_simple_chords_218.mid     reels_simple_chords_337.mid\n",
      "jigs_simple_chords_219.mid     reels_simple_chords_338.mid\n",
      "jigs_simple_chords_222.mid     reels_simple_chords_339.mid\n",
      "jigs_simple_chords_223.mid     reels_simple_chords_342.mid\n",
      "jigs_simple_chords_224.mid     reels_simple_chords_343.mid\n",
      "jigs_simple_chords_225.mid     reels_simple_chords_344.mid\n",
      "jigs_simple_chords_228.mid     reels_simple_chords_345.mid\n",
      "jigs_simple_chords_229.mid     reels_simple_chords_348.mid\n",
      "jigs_simple_chords_230.mid     reels_simple_chords_349.mid\n",
      "jigs_simple_chords_231.mid     reels_simple_chords_350.mid\n",
      "jigs_simple_chords_234.mid     reels_simple_chords_351.mid\n",
      "jigs_simple_chords_235.mid     reels_simple_chords_354.mid\n",
      "jigs_simple_chords_236.mid     reels_simple_chords_355.mid\n",
      "jigs_simple_chords_237.mid     reels_simple_chords_356.mid\n",
      "jigs_simple_chords_24.mid      reels_simple_chords_357.mid\n",
      "jigs_simple_chords_240.mid     reels_simple_chords_36.mid\n",
      "jigs_simple_chords_241.mid     reels_simple_chords_360.mid\n",
      "jigs_simple_chords_242.mid     reels_simple_chords_361.mid\n",
      "jigs_simple_chords_243.mid     reels_simple_chords_362.mid\n",
      "jigs_simple_chords_246.mid     reels_simple_chords_363.mid\n",
      "jigs_simple_chords_247.mid     reels_simple_chords_366.mid\n",
      "jigs_simple_chords_248.mid     reels_simple_chords_367.mid\n",
      "jigs_simple_chords_249.mid     reels_simple_chords_368.mid\n",
      "jigs_simple_chords_25.mid      reels_simple_chords_369.mid\n",
      "jigs_simple_chords_252.mid     reels_simple_chords_37.mid\n",
      "jigs_simple_chords_253.mid     reels_simple_chords_372.mid\n",
      "jigs_simple_chords_254.mid     reels_simple_chords_373.mid\n",
      "jigs_simple_chords_255.mid     reels_simple_chords_374.mid\n",
      "jigs_simple_chords_258.mid     reels_simple_chords_375.mid\n",
      "jigs_simple_chords_259.mid     reels_simple_chords_378.mid\n",
      "jigs_simple_chords_26.mid      reels_simple_chords_379.mid\n",
      "jigs_simple_chords_260.mid     reels_simple_chords_38.mid\n",
      "jigs_simple_chords_261.mid     reels_simple_chords_380.mid\n",
      "jigs_simple_chords_264.mid     reels_simple_chords_381.mid\n",
      "jigs_simple_chords_265.mid     reels_simple_chords_384.mid\n",
      "jigs_simple_chords_266.mid     reels_simple_chords_385.mid\n",
      "jigs_simple_chords_267.mid     reels_simple_chords_386.mid\n",
      "jigs_simple_chords_27.mid      reels_simple_chords_387.mid\n",
      "jigs_simple_chords_270.mid     reels_simple_chords_39.mid\n",
      "jigs_simple_chords_271.mid     reels_simple_chords_390.mid\n",
      "jigs_simple_chords_272.mid     reels_simple_chords_391.mid\n",
      "jigs_simple_chords_273.mid     reels_simple_chords_392.mid\n",
      "jigs_simple_chords_276.mid     reels_simple_chords_393.mid\n",
      "jigs_simple_chords_277.mid     reels_simple_chords_396.mid\n",
      "jigs_simple_chords_278.mid     reels_simple_chords_397.mid\n",
      "jigs_simple_chords_279.mid     reels_simple_chords_398.mid\n",
      "jigs_simple_chords_282.mid     reels_simple_chords_399.mid\n",
      "jigs_simple_chords_283.mid     reels_simple_chords_402.mid\n",
      "jigs_simple_chords_284.mid     reels_simple_chords_403.mid\n",
      "jigs_simple_chords_285.mid     reels_simple_chords_404.mid\n",
      "jigs_simple_chords_288.mid     reels_simple_chords_405.mid\n",
      "jigs_simple_chords_289.mid     reels_simple_chords_408.mid\n",
      "jigs_simple_chords_290.mid     reels_simple_chords_409.mid\n",
      "jigs_simple_chords_291.mid     reels_simple_chords_410.mid\n",
      "jigs_simple_chords_294.mid     reels_simple_chords_411.mid\n",
      "jigs_simple_chords_295.mid     reels_simple_chords_414.mid\n",
      "jigs_simple_chords_296.mid     reels_simple_chords_415.mid\n",
      "jigs_simple_chords_297.mid     reels_simple_chords_416.mid\n",
      "jigs_simple_chords_3.mid       reels_simple_chords_417.mid\n",
      "jigs_simple_chords_30.mid      reels_simple_chords_42.mid\n",
      "jigs_simple_chords_300.mid     reels_simple_chords_420.mid\n",
      "jigs_simple_chords_301.mid     reels_simple_chords_421.mid\n",
      "jigs_simple_chords_302.mid     reels_simple_chords_422.mid\n",
      "jigs_simple_chords_303.mid     reels_simple_chords_423.mid\n",
      "jigs_simple_chords_306.mid     reels_simple_chords_426.mid\n",
      "jigs_simple_chords_307.mid     reels_simple_chords_427.mid\n",
      "jigs_simple_chords_308.mid     reels_simple_chords_428.mid\n",
      "jigs_simple_chords_309.mid     reels_simple_chords_429.mid\n",
      "jigs_simple_chords_31.mid      reels_simple_chords_43.mid\n",
      "jigs_simple_chords_312.mid     reels_simple_chords_432.mid\n",
      "jigs_simple_chords_313.mid     reels_simple_chords_433.mid\n",
      "jigs_simple_chords_314.mid     reels_simple_chords_434.mid\n",
      "jigs_simple_chords_315.mid     reels_simple_chords_435.mid\n",
      "jigs_simple_chords_318.mid     reels_simple_chords_438.mid\n",
      "jigs_simple_chords_319.mid     reels_simple_chords_439.mid\n",
      "jigs_simple_chords_32.mid      reels_simple_chords_44.mid\n",
      "jigs_simple_chords_320.mid     reels_simple_chords_440.mid\n",
      "jigs_simple_chords_321.mid     reels_simple_chords_441.mid\n",
      "jigs_simple_chords_324.mid     reels_simple_chords_444.mid\n",
      "jigs_simple_chords_325.mid     reels_simple_chords_445.mid\n",
      "jigs_simple_chords_326.mid     reels_simple_chords_446.mid\n",
      "jigs_simple_chords_327.mid     reels_simple_chords_447.mid\n",
      "jigs_simple_chords_33.mid      reels_simple_chords_45.mid\n",
      "jigs_simple_chords_330.mid     reels_simple_chords_450.mid\n",
      "jigs_simple_chords_331.mid     reels_simple_chords_451.mid\n",
      "jigs_simple_chords_332.mid     reels_simple_chords_452.mid\n",
      "jigs_simple_chords_333.mid     reels_simple_chords_453.mid\n",
      "jigs_simple_chords_336.mid     reels_simple_chords_456.mid\n",
      "jigs_simple_chords_337.mid     reels_simple_chords_457.mid\n",
      "jigs_simple_chords_338.mid     reels_simple_chords_458.mid\n",
      "jigs_simple_chords_339.mid     reels_simple_chords_459.mid\n",
      "jigs_simple_chords_36.mid      reels_simple_chords_462.mid\n",
      "jigs_simple_chords_37.mid      reels_simple_chords_463.mid\n",
      "jigs_simple_chords_38.mid      reels_simple_chords_464.mid\n",
      "jigs_simple_chords_39.mid      reels_simple_chords_48.mid\n",
      "jigs_simple_chords_42.mid      reels_simple_chords_49.mid\n",
      "jigs_simple_chords_43.mid      reels_simple_chords_50.mid\n",
      "jigs_simple_chords_44.mid      reels_simple_chords_51.mid\n",
      "jigs_simple_chords_45.mid      reels_simple_chords_54.mid\n",
      "jigs_simple_chords_48.mid      reels_simple_chords_55.mid\n",
      "jigs_simple_chords_49.mid      reels_simple_chords_56.mid\n",
      "jigs_simple_chords_50.mid      reels_simple_chords_57.mid\n",
      "jigs_simple_chords_51.mid      reels_simple_chords_6.mid\n",
      "jigs_simple_chords_54.mid      reels_simple_chords_60.mid\n",
      "jigs_simple_chords_55.mid      reels_simple_chords_61.mid\n",
      "jigs_simple_chords_56.mid      reels_simple_chords_62.mid\n",
      "jigs_simple_chords_57.mid      reels_simple_chords_63.mid\n",
      "jigs_simple_chords_6.mid       reels_simple_chords_66.mid\n",
      "jigs_simple_chords_60.mid      reels_simple_chords_67.mid\n",
      "jigs_simple_chords_61.mid      reels_simple_chords_68.mid\n",
      "jigs_simple_chords_62.mid      reels_simple_chords_69.mid\n",
      "jigs_simple_chords_63.mid      reels_simple_chords_7.mid\n",
      "jigs_simple_chords_66.mid      reels_simple_chords_72.mid\n",
      "jigs_simple_chords_67.mid      reels_simple_chords_73.mid\n",
      "jigs_simple_chords_68.mid      reels_simple_chords_74.mid\n",
      "jigs_simple_chords_69.mid      reels_simple_chords_75.mid\n",
      "jigs_simple_chords_7.mid       reels_simple_chords_78.mid\n",
      "jigs_simple_chords_72.mid      reels_simple_chords_79.mid\n",
      "jigs_simple_chords_73.mid      reels_simple_chords_8.mid\n",
      "jigs_simple_chords_74.mid      reels_simple_chords_80.mid\n",
      "jigs_simple_chords_75.mid      reels_simple_chords_81.mid\n",
      "jigs_simple_chords_78.mid      reels_simple_chords_84.mid\n",
      "jigs_simple_chords_79.mid      reels_simple_chords_85.mid\n",
      "jigs_simple_chords_8.mid       reels_simple_chords_86.mid\n",
      "jigs_simple_chords_80.mid      reels_simple_chords_87.mid\n",
      "jigs_simple_chords_81.mid      reels_simple_chords_9.mid\n",
      "jigs_simple_chords_84.mid      reels_simple_chords_90.mid\n",
      "jigs_simple_chords_85.mid      reels_simple_chords_91.mid\n",
      "jigs_simple_chords_86.mid      reels_simple_chords_92.mid\n",
      "jigs_simple_chords_87.mid      reels_simple_chords_93.mid\n",
      "jigs_simple_chords_9.mid       reels_simple_chords_96.mid\n",
      "jigs_simple_chords_90.mid      reels_simple_chords_97.mid\n",
      "jigs_simple_chords_91.mid      reels_simple_chords_98.mid\n",
      "jigs_simple_chords_92.mid      reels_simple_chords_99.mid\n",
      "jigs_simple_chords_93.mid      slip_simple_chords_1.mid\n",
      "jigs_simple_chords_96.mid      slip_simple_chords_2.mid\n",
      "jigs_simple_chords_97.mid      slip_simple_chords_3.mid\n",
      "jigs_simple_chords_98.mid      slip_simple_chords_6.mid\n",
      "jigs_simple_chords_99.mid      slip_simple_chords_7.mid\n",
      "morris_simple_chords_1.mid     slip_simple_chords_8.mid\n",
      "morris_simple_chords_12.mid    slip_simple_chords_9.mid\n",
      "morris_simple_chords_13.mid    waltzes_simple_chords_1.mid\n",
      "morris_simple_chords_14.mid    waltzes_simple_chords_12.mid\n",
      "morris_simple_chords_15.mid    waltzes_simple_chords_13.mid\n",
      "morris_simple_chords_18.mid    waltzes_simple_chords_14.mid\n",
      "morris_simple_chords_19.mid    waltzes_simple_chords_15.mid\n",
      "morris_simple_chords_2.mid     waltzes_simple_chords_18.mid\n",
      "morris_simple_chords_20.mid    waltzes_simple_chords_19.mid\n",
      "morris_simple_chords_21.mid    waltzes_simple_chords_2.mid\n",
      "morris_simple_chords_24.mid    waltzes_simple_chords_20.mid\n",
      "morris_simple_chords_25.mid    waltzes_simple_chords_21.mid\n",
      "morris_simple_chords_26.mid    waltzes_simple_chords_24.mid\n",
      "morris_simple_chords_27.mid    waltzes_simple_chords_25.mid\n",
      "morris_simple_chords_3.mid     waltzes_simple_chords_26.mid\n",
      "morris_simple_chords_30.mid    waltzes_simple_chords_27.mid\n",
      "morris_simple_chords_31.mid    waltzes_simple_chords_3.mid\n",
      "morris_simple_chords_6.mid     waltzes_simple_chords_30.mid\n",
      "morris_simple_chords_7.mid     waltzes_simple_chords_31.mid\n",
      "morris_simple_chords_8.mid     waltzes_simple_chords_32.mid\n",
      "morris_simple_chords_9.mid     waltzes_simple_chords_33.mid\n",
      "playford_simple_chords_1.mid   waltzes_simple_chords_36.mid\n",
      "playford_simple_chords_12.mid  waltzes_simple_chords_37.mid\n",
      "playford_simple_chords_13.mid  waltzes_simple_chords_38.mid\n",
      "playford_simple_chords_14.mid  waltzes_simple_chords_39.mid\n",
      "playford_simple_chords_15.mid  waltzes_simple_chords_42.mid\n",
      "playford_simple_chords_2.mid   waltzes_simple_chords_43.mid\n",
      "playford_simple_chords_3.mid   waltzes_simple_chords_44.mid\n",
      "playford_simple_chords_6.mid   waltzes_simple_chords_45.mid\n",
      "playford_simple_chords_7.mid   waltzes_simple_chords_48.mid\n",
      "playford_simple_chords_8.mid   waltzes_simple_chords_49.mid\n",
      "playford_simple_chords_9.mid   waltzes_simple_chords_50.mid\n",
      "reels_simple_chords_1.mid      waltzes_simple_chords_51.mid\n",
      "reels_simple_chords_102.mid    waltzes_simple_chords_6.mid\n",
      "reels_simple_chords_103.mid    waltzes_simple_chords_7.mid\n",
      "reels_simple_chords_104.mid    waltzes_simple_chords_8.mid\n",
      "reels_simple_chords_105.mid    waltzes_simple_chords_9.mid\n",
      "reels_simple_chords_108.mid    xmas_simple_chords_1.mid\n",
      "reels_simple_chords_109.mid    xmas_simple_chords_12.mid\n",
      "reels_simple_chords_110.mid    xmas_simple_chords_13.mid\n",
      "reels_simple_chords_111.mid    xmas_simple_chords_2.mid\n",
      "reels_simple_chords_114.mid    xmas_simple_chords_3.mid\n",
      "reels_simple_chords_115.mid    xmas_simple_chords_6.mid\n",
      "reels_simple_chords_116.mid    xmas_simple_chords_7.mid\n",
      "reels_simple_chords_117.mid    xmas_simple_chords_8.mid\n",
      "reels_simple_chords_12.mid     xmas_simple_chords_9.mid\n"
     ]
    }
   ],
   "source": [
    "!ls dataset/Nottingham/train"
   ]
  }
 ],
 "metadata": {
  "kernelspec": {
   "display_name": "Python 3",
   "language": "python",
   "name": "python3"
  },
  "language_info": {
   "codemirror_mode": {
    "name": "ipython",
    "version": 3
   },
   "file_extension": ".py",
   "mimetype": "text/x-python",
   "name": "python",
   "nbconvert_exporter": "python",
   "pygments_lexer": "ipython3",
   "version": "3.8.2"
  }
 },
 "nbformat": 4,
 "nbformat_minor": 4
}
