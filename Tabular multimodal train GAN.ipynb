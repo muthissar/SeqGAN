{
 "cells": [
  {
   "cell_type": "code",
   "execution_count": 1,
   "metadata": {},
   "outputs": [],
   "source": [
    "%matplotlib inline\n",
    "%load_ext autoreload\n",
    "%autoreload 2"
   ]
  },
  {
   "cell_type": "code",
   "execution_count": 2,
   "metadata": {},
   "outputs": [
    {
     "name": "stderr",
     "output_type": "stream",
     "text": [
      "/zhome/30/0/70339/.local/lib/python3.6/site-packages/tensorflow/python/framework/dtypes.py:526: FutureWarning: Passing (type, 1) or '1type' as a synonym of type is deprecated; in a future version of numpy, it will be understood as (type, (1,)) / '(1,)type'.\n",
      "  _np_qint8 = np.dtype([(\"qint8\", np.int8, 1)])\n",
      "/zhome/30/0/70339/.local/lib/python3.6/site-packages/tensorflow/python/framework/dtypes.py:527: FutureWarning: Passing (type, 1) or '1type' as a synonym of type is deprecated; in a future version of numpy, it will be understood as (type, (1,)) / '(1,)type'.\n",
      "  _np_quint8 = np.dtype([(\"quint8\", np.uint8, 1)])\n",
      "/zhome/30/0/70339/.local/lib/python3.6/site-packages/tensorflow/python/framework/dtypes.py:528: FutureWarning: Passing (type, 1) or '1type' as a synonym of type is deprecated; in a future version of numpy, it will be understood as (type, (1,)) / '(1,)type'.\n",
      "  _np_qint16 = np.dtype([(\"qint16\", np.int16, 1)])\n",
      "/zhome/30/0/70339/.local/lib/python3.6/site-packages/tensorflow/python/framework/dtypes.py:529: FutureWarning: Passing (type, 1) or '1type' as a synonym of type is deprecated; in a future version of numpy, it will be understood as (type, (1,)) / '(1,)type'.\n",
      "  _np_quint16 = np.dtype([(\"quint16\", np.uint16, 1)])\n",
      "/zhome/30/0/70339/.local/lib/python3.6/site-packages/tensorflow/python/framework/dtypes.py:530: FutureWarning: Passing (type, 1) or '1type' as a synonym of type is deprecated; in a future version of numpy, it will be understood as (type, (1,)) / '(1,)type'.\n",
      "  _np_qint32 = np.dtype([(\"qint32\", np.int32, 1)])\n",
      "/zhome/30/0/70339/.local/lib/python3.6/site-packages/tensorflow/python/framework/dtypes.py:535: FutureWarning: Passing (type, 1) or '1type' as a synonym of type is deprecated; in a future version of numpy, it will be understood as (type, (1,)) / '(1,)type'.\n",
      "  np_resource = np.dtype([(\"resource\", np.ubyte, 1)])\n"
     ]
    }
   ],
   "source": [
    "import numpy as np\n",
    "import matplotlib.pyplot as plt\n",
    "from tabular_simple import TabularSimple\n",
    "from generator import Generator\n",
    "from discriminator import Discriminator\n",
    "from rollout_max_ent import ROLLOUT\n",
    "import tensorflow as tf\n",
    "from gan_trainer import GanTrainer\n",
    "from dataloader import Gen_Data_loader, Dis_dataloader"
   ]
  },
  {
   "cell_type": "code",
   "execution_count": 3,
   "metadata": {},
   "outputs": [],
   "source": [
    "n_modes = 2\n",
    "n_vocabulary = 4\n",
    "vocab = range(n_vocabulary)\n",
    "tabular_model = TabularSimple(4,n_vocabulary,n_modes)"
   ]
  },
  {
   "cell_type": "code",
   "execution_count": 4,
   "metadata": {},
   "outputs": [
    {
     "data": {
      "text/plain": [
       "<BarContainer object of 4 artists>"
      ]
     },
     "execution_count": 4,
     "metadata": {},
     "output_type": "execute_result"
    },
    {
     "data": {
      "image/png": "[encoded data removed]",
      "text/plain": [
       "<Figure size 432x288 with 1 Axes>"
      ]
     },
     "metadata": {
      "needs_background": "light"
     },
     "output_type": "display_data"
    }
   ],
   "source": [
    "dist = tabular_model.table[\"10\"]\n",
    "plt.bar(vocab, dist)"
   ]
  },
  {
   "cell_type": "code",
   "execution_count": 5,
   "metadata": {},
   "outputs": [],
   "source": [
    "size = 10000\n",
    "samples = tabular_model.sample(size)"
   ]
  },
  {
   "cell_type": "code",
   "execution_count": 6,
   "metadata": {},
   "outputs": [],
   "source": [
    "np.savetxt('save/real_data_tab.txt',samples,fmt='%d',delimiter=' ')"
   ]
  },
  {
   "cell_type": "code",
   "execution_count": 7,
   "metadata": {},
   "outputs": [
    {
     "data": {
      "text/plain": [
       "85"
      ]
     },
     "execution_count": 7,
     "metadata": {},
     "output_type": "execute_result"
    }
   ],
   "source": [
    "len(list(tabular_model.table.keys()))"
   ]
  },
  {
   "cell_type": "code",
   "execution_count": 8,
   "metadata": {},
   "outputs": [
    {
     "data": {
      "text/plain": [
       "-1.2077784677031083"
      ]
     },
     "execution_count": 8,
     "metadata": {},
     "output_type": "execute_result"
    }
   ],
   "source": [
    "tabular_model.ll(samples)"
   ]
  },
  {
   "cell_type": "code",
   "execution_count": 9,
   "metadata": {},
   "outputs": [
    {
     "data": {
      "text/plain": [
       "-1.2077784677031083"
      ]
     },
     "execution_count": 9,
     "metadata": {},
     "output_type": "execute_result"
    }
   ],
   "source": [
    "TabularSimple(4,n_vocabulary,n_modes).ll(samples)"
   ]
  },
  {
   "cell_type": "code",
   "execution_count": 10,
   "metadata": {},
   "outputs": [
    {
     "name": "stdout",
     "output_type": "stream",
     "text": [
      "WARNING:tensorflow:From /zhome/30/0/70339/.local/lib/python3.6/site-packages/tensorflow/python/framework/op_def_library.py:263: colocate_with (from tensorflow.python.framework.ops) is deprecated and will be removed in a future version.\n",
      "Instructions for updating:\n",
      "Colocations handled automatically by placer.\n",
      "WARNING:tensorflow:From /zhome/30/0/70339/courses/music/coding/seqGAN/official/SeqGAN/generator.py:52: multinomial (from tensorflow.python.ops.random_ops) is deprecated and will be removed in a future version.\n",
      "Instructions for updating:\n",
      "Use tf.random.categorical instead.\n",
      "WARNING:tensorflow:From /zhome/30/0/70339/courses/music/coding/seqGAN/official/SeqGAN/generator.py:94: to_int32 (from tensorflow.python.ops.math_ops) is deprecated and will be removed in a future version.\n",
      "Instructions for updating:\n",
      "Use tf.cast instead.\n",
      "WARNING:tensorflow:From /zhome/30/0/70339/courses/music/coding/seqGAN/official/SeqGAN/discriminator.py:115: calling dropout (from tensorflow.python.ops.nn_ops) with keep_prob is deprecated and will be removed in a future version.\n",
      "Instructions for updating:\n",
      "Please use `rate` instead of `keep_prob`. Rate should be set to `rate = 1 - keep_prob`.\n",
      "WARNING:tensorflow:From /zhome/30/0/70339/courses/music/coding/seqGAN/official/SeqGAN/discriminator.py:129: softmax_cross_entropy_with_logits (from tensorflow.python.ops.nn_ops) is deprecated and will be removed in a future version.\n",
      "Instructions for updating:\n",
      "\n",
      "Future major versions of TensorFlow will allow gradients to flow\n",
      "into the labels input on backprop by default.\n",
      "\n",
      "See `tf.nn.softmax_cross_entropy_with_logits_v2`.\n",
      "\n"
     ]
    }
   ],
   "source": [
    "#########################################################################################\n",
    "#  Generator  Hyper-parameters\n",
    "######################################################################################\n",
    "EMB_DIM = 4 # embedding dimension\n",
    "HIDDEN_DIM = 4 # hidden state dimension of lstm cell\n",
    "SEQ_LENGTH = 4 # sequence length\n",
    "START_TOKEN = 0\n",
    "PRE_EPOCH_NUM = 120 # supervise (maximum likelihood estimation) epochs\n",
    "SEED = 88\n",
    "BATCH_SIZE = 128\n",
    "vocab_size = 4\n",
    "\n",
    "#########################################################################################\n",
    "#  Discriminator  Hyper-parameters\n",
    "#########################################################################################\n",
    "dis_embedding_dim = 4\n",
    "dis_filter_sizes = [1, 2, 3, 4]\n",
    "#dis_num_filters = [200, 200, 200, 200]\n",
    "dis_num_filters = [10, 10, 10, 10]\n",
    "dis_dropout_keep_prob = 0.75\n",
    "dis_l2_reg_lambda = 0.2\n",
    "dis_batch_size = 128\n",
    "\n",
    "#########################################################################################\n",
    "#  Basic Training Parameters\n",
    "#########################################################################################\n",
    "TOTAL_BATCH = 200\n",
    "positive_file = 'save/real_data_tab.txt'\n",
    "negative_file = 'save/generator_sample_tab.txt'\n",
    "negative_file_ent = 'save/generator_sample_tab_ent.txt'\n",
    "#eval_file = 'save/eval_file_tab.txt'\n",
    "generated_num = 10000\n",
    "sequence_length = 4\n",
    "g_lr = 0.01\n",
    "generator = Generator(vocab_size, BATCH_SIZE, EMB_DIM, HIDDEN_DIM, SEQ_LENGTH, START_TOKEN,learning_rate=g_lr)\n",
    "generator_ent = Generator(vocab_size, BATCH_SIZE, EMB_DIM, HIDDEN_DIM, SEQ_LENGTH, START_TOKEN,learning_rate=g_lr)\n",
    "\n",
    "discriminator = Discriminator(sequence_length=sequence_length, num_classes=2, vocab_size=vocab_size, embedding_size=dis_embedding_dim, \n",
    "                            filter_sizes=dis_filter_sizes, num_filters=dis_num_filters, l2_reg_lambda=dis_l2_reg_lambda)\n",
    "rollout = ROLLOUT(generator, 0.8)\n",
    "rollout_ent = ROLLOUT(generator_ent, 0.8)\n"
   ]
  },
  {
   "cell_type": "code",
   "execution_count": 11,
   "metadata": {},
   "outputs": [],
   "source": [
    "gen_data_loader = Gen_Data_loader(BATCH_SIZE,SEQ_LENGTH)\n",
    "gen_data_loader_ent = Gen_Data_loader(BATCH_SIZE,SEQ_LENGTH)\n",
    "dis_data_loader = Dis_dataloader(BATCH_SIZE,SEQ_LENGTH)\n",
    "gan_trainer = GanTrainer(generator,discriminator,rollout,gen_data_loader,dis_data_loader,\n",
    "           tabular_model,'pretrain_notebook','advtrain_notebook',positive_file,negative_file,BATCH_SIZE)\n",
    "gan_trainer_ent = GanTrainer(generator_ent,discriminator,rollout_ent,gen_data_loader_ent,dis_data_loader,\n",
    "           tabular_model,'pretrain_notebook','advtrain_notebook',positive_file,negative_file_ent,BATCH_SIZE)"
   ]
  },
  {
   "cell_type": "code",
   "execution_count": 12,
   "metadata": {},
   "outputs": [],
   "source": [
    "config = tf.ConfigProto()\n",
    "config.gpu_options.allow_growth = True\n",
    "sess = tf.Session(config=config)"
   ]
  },
  {
   "cell_type": "code",
   "execution_count": 13,
   "metadata": {},
   "outputs": [],
   "source": [
    "# run from saved checkpoint \n",
    "#saver = tf.train.Saver()\n",
    "#tf.reset_default_graph()\n",
    "#saver.restore(sess, 'model/pretrain_max_ent_tab.ckpt')\n",
    "#saver.restore(sess, 'model/advtrain.ckpt')"
   ]
  },
  {
   "cell_type": "code",
   "execution_count": 14,
   "metadata": {},
   "outputs": [],
   "source": [
    "sess.run(tf.global_variables_initializer())"
   ]
  },
  {
   "cell_type": "code",
   "execution_count": 15,
   "metadata": {},
   "outputs": [],
   "source": [
    "saver = tf.train.Saver()"
   ]
  },
  {
   "cell_type": "code",
   "execution_count": 16,
   "metadata": {},
   "outputs": [
    {
     "data": {
      "text/plain": [
       "10000"
      ]
     },
     "execution_count": 16,
     "metadata": {},
     "output_type": "execute_result"
    }
   ],
   "source": [
    "generated_num"
   ]
  },
  {
   "cell_type": "code",
   "execution_count": 17,
   "metadata": {},
   "outputs": [
    {
     "name": "stdout",
     "output_type": "stream",
     "text": [
      "Start pre-training...\n",
      "pre-train epoch  0 test_loss  1.5461448313526345\n",
      "pre-train epoch  5 test_loss  1.3282689683199427\n",
      "pre-train epoch  10 test_loss  1.3279617285212446\n",
      "pre-train epoch  15 test_loss  1.2550612212354764\n",
      "Start pre-training discriminator...\n",
      "pre-train entropy:  1.2380302\n",
      "Start pre-training...\n",
      "pre-train epoch  0 test_loss  1.5686908542468987\n",
      "pre-train epoch  5 test_loss  1.2887272702999477\n",
      "pre-train epoch  10 test_loss  1.2963328658692754\n",
      "pre-train epoch  15 test_loss  1.3080919351348335\n",
      "Start pre-training discriminator...\n",
      "pre-train entropy:  1.201304\n"
     ]
    }
   ],
   "source": [
    "gan_trainer.pretrain(sess, 20, 20,3,\n",
    "    saver,dis_dropout_keep_prob,generated_num)\n",
    "gan_trainer_ent.pretrain(sess, 20, 20,3,\n",
    "    saver,dis_dropout_keep_prob,generated_num)"
   ]
  },
  {
   "cell_type": "code",
   "execution_count": 18,
   "metadata": {},
   "outputs": [],
   "source": [
    "#EVEN WITH A VERY HIGH ENTROPY CONSTANT WE DON't see any major difference"
   ]
  },
  {
   "cell_type": "code",
   "execution_count": 19,
   "metadata": {},
   "outputs": [
    {
     "name": "stdout",
     "output_type": "stream",
     "text": [
      "GenT: 9999.0000 -  test_loss: 1.2495, g_loss: -9.1001, pol_ent: 1.2398, ll_disc: -0.6900, maxp_disc: 0.6332, minp_disc: 0.3819\n",
      "GenT: 0.2500 -  test_loss: 1.2927, g_loss: 5.5378, pol_ent: 1.2232, ll_disc: -0.6969, maxp_disc: 0.6151, minp_disc: 0.4020\n",
      "GenT: 9999.0000 -  test_loss: 1.3739, g_loss: -72.7016, pol_ent: 1.2656, ll_disc: -0.6480, maxp_disc: 0.6325, minp_disc: 0.4180\n",
      "GenT: 0.2500 -  test_loss: 1.3030, g_loss: -89.5767, pol_ent: 1.3091, ll_disc: -0.6667, maxp_disc: 0.6327, minp_disc: 0.3931\n",
      "GenT: 9999.0000 -  test_loss: 1.4266, g_loss: -113.5382, pol_ent: 1.1991, ll_disc: -0.6286, maxp_disc: 0.6309, minp_disc: 0.4366\n",
      "GenT: 0.2500 -  test_loss: 1.4141, g_loss: -131.7533, pol_ent: 1.1739, ll_disc: -0.6466, maxp_disc: 0.6437, minp_disc: 0.3966\n",
      "GenT: 9999.0000 -  test_loss: 1.3501, g_loss: -125.0718, pol_ent: 1.0996, ll_disc: -0.6141, maxp_disc: 0.6432, minp_disc: 0.4211\n",
      "GenT: 0.2500 -  test_loss: 1.4396, g_loss: -16.4328, pol_ent: 1.2069, ll_disc: -0.6344, maxp_disc: 0.6408, minp_disc: 0.4103\n",
      "GenT: 9999.0000 -  test_loss: 1.3377, g_loss: -158.4668, pol_ent: 0.9791, ll_disc: -0.5961, maxp_disc: 0.6423, minp_disc: 0.4407\n",
      "GenT: 0.2500 -  test_loss: 1.4197, g_loss: -85.0932, pol_ent: 1.1531, ll_disc: -0.6193, maxp_disc: 0.6428, minp_disc: 0.4221\n",
      "GenT: 9999.0000 -  test_loss: 1.4727, g_loss: -221.8930, pol_ent: 0.8530, ll_disc: -0.5670, maxp_disc: 0.6446, minp_disc: 0.4373\n",
      "GenT: 0.2500 -  test_loss: 1.4401, g_loss: -168.1707, pol_ent: 1.0326, ll_disc: -0.6031, maxp_disc: 0.6453, minp_disc: 0.4240\n",
      "GenT: 9999.0000 -  test_loss: 1.5908, g_loss: -208.9051, pol_ent: 0.6083, ll_disc: -0.5527, maxp_disc: 0.6442, minp_disc: 0.4493\n",
      "GenT: 0.2500 -  test_loss: 1.4538, g_loss: -311.5265, pol_ent: 0.9183, ll_disc: -0.5791, maxp_disc: 0.6415, minp_disc: 0.4492\n",
      "GenT: 9999.0000 -  test_loss: 1.6014, g_loss: -170.0398, pol_ent: 0.4540, ll_disc: -0.5387, maxp_disc: 0.6455, minp_disc: 0.4456\n",
      "GenT: 0.2500 -  test_loss: 1.5682, g_loss: 5.0682, pol_ent: 0.6416, ll_disc: -0.5504, maxp_disc: 0.6449, minp_disc: 0.4381\n",
      "GenT: 9999.0000 -  test_loss: 1.6642, g_loss: -209.7914, pol_ent: 0.4297, ll_disc: -0.5256, maxp_disc: 0.6452, minp_disc: 0.4546\n",
      "GenT: 0.2500 -  test_loss: 1.6073, g_loss: 4.8300, pol_ent: 0.4595, ll_disc: -0.5348, maxp_disc: 0.6463, minp_disc: 0.4415\n",
      "GenT: 9999.0000 -  test_loss: 1.6845, g_loss: -213.5294, pol_ent: 0.3706, ll_disc: -0.5174, maxp_disc: 0.6452, minp_disc: 0.4549\n",
      "GenT: 0.2500 -  test_loss: 1.6560, g_loss: 308.4011, pol_ent: 0.3531, ll_disc: -0.5237, maxp_disc: 0.6458, minp_disc: 0.4292\n",
      "GenT: 9999.0000 -  test_loss: 1.6991, g_loss: -165.7790, pol_ent: 0.2297, ll_disc: -0.5103, maxp_disc: 0.6475, minp_disc: 0.4881\n",
      "GenT: 0.2500 -  test_loss: 1.7057, g_loss: 247.6530, pol_ent: 0.3014, ll_disc: -0.5153, maxp_disc: 0.6460, minp_disc: 0.4506\n",
      "GenT: 9999.0000 -  test_loss: 1.7190, g_loss: -159.5753, pol_ent: 0.1132, ll_disc: -0.5073, maxp_disc: 0.6455, minp_disc: 0.5063\n",
      "GenT: 0.2500 -  test_loss: 1.6997, g_loss: -100.5088, pol_ent: 0.1485, ll_disc: -0.5101, maxp_disc: 0.6448, minp_disc: 0.4754\n",
      "GenT: 9999.0000 -  test_loss: 1.7366, g_loss: -139.0939, pol_ent: 0.1115, ll_disc: -0.5053, maxp_disc: 0.6468, minp_disc: 0.4915\n",
      "GenT: 0.2500 -  test_loss: 1.7189, g_loss: -38.9635, pol_ent: 0.1496, ll_disc: -0.5059, maxp_disc: 0.6476, minp_disc: 0.4787\n",
      "GenT: 9999.0000 -  test_loss: 1.7167, g_loss: -154.0107, pol_ent: 0.0550, ll_disc: -0.5031, maxp_disc: 0.6450, minp_disc: 0.4715\n",
      "GenT: 0.2500 -  test_loss: 1.7321, g_loss: -90.8099, pol_ent: 0.0766, ll_disc: -0.5051, maxp_disc: 0.6445, minp_disc: 0.4969\n",
      "GenT: 9999.0000 -  test_loss: 1.7206, g_loss: -187.7400, pol_ent: 0.0884, ll_disc: -0.5023, maxp_disc: 0.6462, minp_disc: 0.5238\n",
      "GenT: 0.2500 -  test_loss: 1.7318, g_loss: -2.0126, pol_ent: 0.0887, ll_disc: -0.5039, maxp_disc: 0.6456, minp_disc: 0.4869\n",
      "GenT: 9999.0000 -  test_loss: 1.7125, g_loss: -200.2104, pol_ent: 0.1374, ll_disc: -0.5020, maxp_disc: 0.6466, minp_disc: 0.5011\n",
      "GenT: 0.2500 -  test_loss: 1.7161, g_loss: 47.6212, pol_ent: 0.0806, ll_disc: -0.5038, maxp_disc: 0.6459, minp_disc: 0.4678\n",
      "GenT: 9999.0000 -  test_loss: 1.7322, g_loss: -141.0375, pol_ent: 0.0410, ll_disc: -0.4999, maxp_disc: 0.6459, minp_disc: 0.5282\n",
      "GenT: 0.2500 -  test_loss: 1.7247, g_loss: -81.7791, pol_ent: 0.0622, ll_disc: -0.5035, maxp_disc: 0.6455, minp_disc: 0.5132\n",
      "GenT: 9999.0000 -  test_loss: 1.7406, g_loss: -106.8486, pol_ent: 0.0150, ll_disc: -0.5004, maxp_disc: 0.6468, minp_disc: 0.5373\n",
      "GenT: 0.2500 -  test_loss: 1.7121, g_loss: -42.6640, pol_ent: 0.0447, ll_disc: -0.5017, maxp_disc: 0.6456, minp_disc: 0.4672\n",
      "GenT: 9999.0000 -  test_loss: 1.7419, g_loss: -101.1186, pol_ent: 0.0453, ll_disc: -0.5001, maxp_disc: 0.6447, minp_disc: 0.5056\n",
      "GenT: 0.2500 -  test_loss: 1.7394, g_loss: -74.2172, pol_ent: 0.0956, ll_disc: -0.5005, maxp_disc: 0.6458, minp_disc: 0.4875\n",
      "GenT: 9999.0000 -  test_loss: 1.7412, g_loss: -0.1694, pol_ent: 0.0172, ll_disc: -0.5005, maxp_disc: 0.6458, minp_disc: 0.5260\n",
      "GenT: 0.2500 -  test_loss: 1.7329, g_loss: -70.2223, pol_ent: 0.0360, ll_disc: -0.5001, maxp_disc: 0.6462, minp_disc: 0.5324\n",
      "GenT: 9999.0000 -  test_loss: 1.7368, g_loss: -106.5795, pol_ent: 0.0018, ll_disc: -0.4991, maxp_disc: 0.6451, minp_disc: 0.5175\n",
      "GenT: 0.2500 -  test_loss: 1.7147, g_loss: -105.0744, pol_ent: 0.0448, ll_disc: -0.5026, maxp_disc: 0.6456, minp_disc: 0.4804\n",
      "GenT: 9999.0000 -  test_loss: 1.7331, g_loss: -104.9877, pol_ent: 0.0252, ll_disc: -0.4980, maxp_disc: 0.6457, minp_disc: 0.5451\n",
      "GenT: 0.2500 -  test_loss: 1.7388, g_loss: -33.3547, pol_ent: 0.0299, ll_disc: -0.5002, maxp_disc: 0.6469, minp_disc: 0.5378\n",
      "GenT: 9999.0000 -  test_loss: 1.7371, g_loss: -80.3474, pol_ent: 0.0014, ll_disc: -0.4999, maxp_disc: 0.6465, minp_disc: 0.5157\n",
      "GenT: 0.2500 -  test_loss: 1.7372, g_loss: -7.3430, pol_ent: 0.0206, ll_disc: -0.5022, maxp_disc: 0.6453, minp_disc: 0.5277\n",
      "GenT: 9999.0000 -  test_loss: 1.7402, g_loss: -71.7703, pol_ent: 0.0449, ll_disc: -0.4991, maxp_disc: 0.6454, minp_disc: 0.5451\n",
      "GenT: 0.2500 -  test_loss: 1.7395, g_loss: 15.3820, pol_ent: 0.0496, ll_disc: -0.4999, maxp_disc: 0.6454, minp_disc: 0.5353\n",
      "GenT: 9999.0000 -  test_loss: 1.7412, g_loss: -0.0430, pol_ent: 0.0009, ll_disc: -0.4983, maxp_disc: 0.6461, minp_disc: 0.5364\n",
      "GenT: 0.2500 -  test_loss: 1.7311, g_loss: 35.1002, pol_ent: 0.0045, ll_disc: -0.5007, maxp_disc: 0.6463, minp_disc: 0.5373\n",
      "GenT: 9999.0000 -  test_loss: 1.7412, g_loss: -0.0585, pol_ent: 0.0189, ll_disc: -0.4988, maxp_disc: 0.6454, minp_disc: 0.5482\n",
      "GenT: 0.2500 -  test_loss: 1.7383, g_loss: 57.5363, pol_ent: 0.0497, ll_disc: -0.5010, maxp_disc: 0.6465, minp_disc: 0.4916\n",
      "GenT: 9999.0000 -  test_loss: 1.7409, g_loss: -84.3842, pol_ent: 0.0006, ll_disc: -0.5004, maxp_disc: 0.6457, minp_disc: 0.5253\n",
      "GenT: 0.2500 -  test_loss: 1.7238, g_loss: -98.9625, pol_ent: 0.0326, ll_disc: -0.4993, maxp_disc: 0.6467, minp_disc: 0.5392\n",
      "GenT: 9999.0000 -  test_loss: 1.7412, g_loss: -0.0236, pol_ent: 0.0005, ll_disc: -0.5005, maxp_disc: 0.6462, minp_disc: 0.5342\n",
      "GenT: 0.2500 -  test_loss: 1.7346, g_loss: -36.9161, pol_ent: 0.0035, ll_disc: -0.4987, maxp_disc: 0.6460, minp_disc: 0.5377\n",
      "GenT: 9999.0000 -  test_loss: 1.7412, g_loss: -0.0200, pol_ent: 0.0005, ll_disc: -0.4980, maxp_disc: 0.6457, minp_disc: 0.5368\n",
      "GenT: 0.2500 -  test_loss: 1.7343, g_loss: -30.2319, pol_ent: 0.0190, ll_disc: -0.5012, maxp_disc: 0.6456, minp_disc: 0.5301\n",
      "GenT: 9999.0000 -  test_loss: 1.7412, g_loss: -0.0200, pol_ent: 0.0004, ll_disc: -0.4979, maxp_disc: 0.6459, minp_disc: 0.5377\n",
      "GenT: 0.2500 -  test_loss: 1.7412, g_loss: 0.0764, pol_ent: 0.0334, ll_disc: -0.5003, maxp_disc: 0.6459, minp_disc: 0.4973\n",
      "GenT: 9999.0000 -  test_loss: 1.7412, g_loss: -0.0182, pol_ent: 0.0004, ll_disc: -0.4995, maxp_disc: 0.6455, minp_disc: 0.5289\n",
      "GenT: 0.2500 -  test_loss: 1.7305, g_loss: -124.9045, pol_ent: 0.0028, ll_disc: -0.5003, maxp_disc: 0.6456, minp_disc: 0.5081\n",
      "GenT: 9999.0000 -  test_loss: 1.7412, g_loss: -0.0035, pol_ent: 0.0004, ll_disc: -0.4973, maxp_disc: 0.6445, minp_disc: 0.5399\n",
      "GenT: 0.2500 -  test_loss: 1.7409, g_loss: 83.1438, pol_ent: 0.0329, ll_disc: -0.5005, maxp_disc: 0.6457, minp_disc: 0.4904\n",
      "GenT: 9999.0000 -  test_loss: 1.7412, g_loss: -0.0159, pol_ent: 0.0004, ll_disc: -0.4996, maxp_disc: 0.6468, minp_disc: 0.5478\n"
     ]
    },
    {
     "name": "stdout",
     "output_type": "stream",
     "text": [
      "GenT: 0.2500 -  test_loss: 1.7412, g_loss: 0.4291, pol_ent: 0.0507, ll_disc: -0.5008, maxp_disc: 0.6460, minp_disc: 0.4938\n",
      "GenT: 9999.0000 -  test_loss: 1.7355, g_loss: -165.6342, pol_ent: 0.0003, ll_disc: -0.4998, maxp_disc: 0.6469, minp_disc: 0.5298\n",
      "GenT: 0.2500 -  test_loss: 1.7412, g_loss: 0.5288, pol_ent: 0.0021, ll_disc: -0.4995, maxp_disc: 0.6458, minp_disc: 0.5300\n",
      "GenT: 9999.0000 -  test_loss: 1.7412, g_loss: -0.0132, pol_ent: 0.0003, ll_disc: -0.5001, maxp_disc: 0.6455, minp_disc: 0.5210\n",
      "GenT: 0.2500 -  test_loss: 1.7412, g_loss: 0.0597, pol_ent: 0.0160, ll_disc: -0.4996, maxp_disc: 0.6471, minp_disc: 0.4815\n",
      "GenT: 9999.0000 -  test_loss: 1.7412, g_loss: -0.0147, pol_ent: 0.0003, ll_disc: -0.4988, maxp_disc: 0.6462, minp_disc: 0.5410\n",
      "GenT: 0.2500 -  test_loss: 1.7355, g_loss: -79.3993, pol_ent: 0.0296, ll_disc: -0.4996, maxp_disc: 0.6458, minp_disc: 0.5435\n",
      "GenT: 9999.0000 -  test_loss: 1.7412, g_loss: -0.0019, pol_ent: 0.0003, ll_disc: -0.4972, maxp_disc: 0.6457, minp_disc: 0.5320\n",
      "GenT: 0.2500 -  test_loss: 1.7394, g_loss: -48.1073, pol_ent: 0.0153, ll_disc: -0.4986, maxp_disc: 0.6468, minp_disc: 0.4684\n",
      "GenT: 9999.0000 -  test_loss: 1.7412, g_loss: -0.0051, pol_ent: 0.0003, ll_disc: -0.4992, maxp_disc: 0.6456, minp_disc: 0.5392\n",
      "GenT: 0.2500 -  test_loss: 1.7412, g_loss: 0.4959, pol_ent: 0.0147, ll_disc: -0.4999, maxp_disc: 0.6442, minp_disc: 0.4753\n",
      "GenT: 9999.0000 -  test_loss: 1.7412, g_loss: -0.0030, pol_ent: 0.0002, ll_disc: -0.4996, maxp_disc: 0.6464, minp_disc: 0.5130\n",
      "GenT: 0.2500 -  test_loss: 1.7412, g_loss: 0.3536, pol_ent: 0.0157, ll_disc: -0.4996, maxp_disc: 0.6452, minp_disc: 0.5258\n",
      "GenT: 9999.0000 -  test_loss: 1.7412, g_loss: -0.0048, pol_ent: 0.0002, ll_disc: -0.5000, maxp_disc: 0.6462, minp_disc: 0.5335\n",
      "GenT: 0.2500 -  test_loss: 1.7412, g_loss: 0.2006, pol_ent: 0.0181, ll_disc: -0.4998, maxp_disc: 0.6450, minp_disc: 0.4977\n",
      "GenT: 9999.0000 -  test_loss: 1.7412, g_loss: 0.0008, pol_ent: 0.0002, ll_disc: -0.4979, maxp_disc: 0.6459, minp_disc: 0.5368\n",
      "GenT: 0.2500 -  test_loss: 1.7402, g_loss: 24.5104, pol_ent: 0.0311, ll_disc: -0.4979, maxp_disc: 0.6455, minp_disc: 0.5014\n",
      "GenT: 9999.0000 -  test_loss: 1.7412, g_loss: -0.0067, pol_ent: 0.0002, ll_disc: -0.4990, maxp_disc: 0.6482, minp_disc: 0.5393\n",
      "GenT: 0.2500 -  test_loss: 1.7409, g_loss: 26.2031, pol_ent: 0.0017, ll_disc: -0.5001, maxp_disc: 0.6468, minp_disc: 0.4619\n",
      "GenT: 9999.0000 -  test_loss: 1.7412, g_loss: -0.0078, pol_ent: 0.0002, ll_disc: -0.4990, maxp_disc: 0.6461, minp_disc: 0.5338\n",
      "GenT: 0.2500 -  test_loss: 1.7276, g_loss: 138.8352, pol_ent: 0.0017, ll_disc: -0.5005, maxp_disc: 0.6465, minp_disc: 0.5113\n",
      "GenT: 9999.0000 -  test_loss: 1.7412, g_loss: -0.0054, pol_ent: 0.0002, ll_disc: -0.4982, maxp_disc: 0.6450, minp_disc: 0.5305\n",
      "GenT: 0.2500 -  test_loss: 1.7412, g_loss: 0.0140, pol_ent: 0.0151, ll_disc: -0.5007, maxp_disc: 0.6455, minp_disc: 0.5105\n",
      "GenT: 9999.0000 -  test_loss: 1.7412, g_loss: -0.0014, pol_ent: 0.0001, ll_disc: -0.4984, maxp_disc: 0.6455, minp_disc: 0.5403\n",
      "GenT: 0.2500 -  test_loss: 1.7399, g_loss: -4.8689, pol_ent: 0.0013, ll_disc: -0.5003, maxp_disc: 0.6472, minp_disc: 0.4851\n",
      "GenT: 9999.0000 -  test_loss: 1.7412, g_loss: -0.0035, pol_ent: 0.0001, ll_disc: -0.5004, maxp_disc: 0.6464, minp_disc: 0.5369\n",
      "GenT: 0.2500 -  test_loss: 1.7412, g_loss: 0.3225, pol_ent: 0.0198, ll_disc: -0.4998, maxp_disc: 0.6464, minp_disc: 0.5112\n",
      "GenT: 9999.0000 -  test_loss: 1.7412, g_loss: -0.0021, pol_ent: 0.0001, ll_disc: -0.4997, maxp_disc: 0.6445, minp_disc: 0.5325\n",
      "GenT: 0.2500 -  test_loss: 1.7412, g_loss: 0.2684, pol_ent: 0.0011, ll_disc: -0.4990, maxp_disc: 0.6451, minp_disc: 0.5288\n",
      "GenT: 9999.0000 -  test_loss: 1.7412, g_loss: 0.0009, pol_ent: 0.0177, ll_disc: -0.4990, maxp_disc: 0.6466, minp_disc: 0.5427\n",
      "GenT: 0.2500 -  test_loss: 1.7412, g_loss: 0.1326, pol_ent: 0.0152, ll_disc: -0.4988, maxp_disc: 0.6456, minp_disc: 0.5121\n",
      "GenT: 9999.0000 -  test_loss: 1.7412, g_loss: -0.0013, pol_ent: 0.0001, ll_disc: -0.4988, maxp_disc: 0.6448, minp_disc: 0.5418\n",
      "GenT: 0.2500 -  test_loss: 1.7351, g_loss: -56.6221, pol_ent: 0.0012, ll_disc: -0.4977, maxp_disc: 0.6455, minp_disc: 0.5438\n"
     ]
    },
    {
     "name": "stderr",
     "output_type": "stream",
     "text": [
      "/zhome/30/0/70339/courses/music/coding/seqGAN/official/SeqGAN/rollout_max_ent.py:112: RuntimeWarning: invalid value encountered in true_divide\n",
      "  rewards = (rewards - np.mean(rewards))/np.std(rewards)\n"
     ]
    },
    {
     "ename": "InvalidArgumentError",
     "evalue": "Found Inf or NaN global norm. : Tensor had NaN values\n\t [[node VerifyFinite_1/CheckNumerics (defined at /zhome/30/0/70339/courses/music/coding/seqGAN/official/SeqGAN/generator.py:123) ]]\n\nCaused by op 'VerifyFinite_1/CheckNumerics', defined at:\n  File \"/appl/python/3.6.2/lib/python3.6/runpy.py\", line 193, in _run_module_as_main\n    \"__main__\", mod_spec)\n  File \"/appl/python/3.6.2/lib/python3.6/runpy.py\", line 85, in _run_code\n    exec(code, run_globals)\n  File \"/zhome/30/0/70339/.local/lib/python3.6/site-packages/ipykernel_launcher.py\", line 16, in <module>\n    app.launch_new_instance()\n  File \"/zhome/30/0/70339/.local/lib/python3.6/site-packages/traitlets/config/application.py\", line 664, in launch_instance\n    app.start()\n  File \"/zhome/30/0/70339/.local/lib/python3.6/site-packages/ipykernel/kernelapp.py\", line 583, in start\n    self.io_loop.start()\n  File \"/zhome/30/0/70339/.local/lib/python3.6/site-packages/tornado/platform/asyncio.py\", line 149, in start\n    self.asyncio_loop.run_forever()\n  File \"/appl/python/3.6.2/lib/python3.6/asyncio/base_events.py\", line 421, in run_forever\n    self._run_once()\n  File \"/appl/python/3.6.2/lib/python3.6/asyncio/base_events.py\", line 1426, in _run_once\n    handle._run()\n  File \"/appl/python/3.6.2/lib/python3.6/asyncio/events.py\", line 127, in _run\n    self._callback(*self._args)\n  File \"/zhome/30/0/70339/.local/lib/python3.6/site-packages/tornado/ioloop.py\", line 690, in <lambda>\n    lambda f: self._run_callback(functools.partial(callback, future))\n  File \"/zhome/30/0/70339/.local/lib/python3.6/site-packages/tornado/ioloop.py\", line 743, in _run_callback\n    ret = callback()\n  File \"/zhome/30/0/70339/.local/lib/python3.6/site-packages/tornado/gen.py\", line 787, in inner\n    self.run()\n  File \"/zhome/30/0/70339/.local/lib/python3.6/site-packages/tornado/gen.py\", line 748, in run\n    yielded = self.gen.send(value)\n  File \"/zhome/30/0/70339/.local/lib/python3.6/site-packages/ipykernel/kernelbase.py\", line 377, in dispatch_queue\n    yield self.process_one()\n  File \"/zhome/30/0/70339/.local/lib/python3.6/site-packages/tornado/gen.py\", line 225, in wrapper\n    runner = Runner(result, future, yielded)\n  File \"/zhome/30/0/70339/.local/lib/python3.6/site-packages/tornado/gen.py\", line 714, in __init__\n    self.run()\n  File \"/zhome/30/0/70339/.local/lib/python3.6/site-packages/tornado/gen.py\", line 748, in run\n    yielded = self.gen.send(value)\n  File \"/zhome/30/0/70339/.local/lib/python3.6/site-packages/ipykernel/kernelbase.py\", line 361, in process_one\n    yield gen.maybe_future(dispatch(*args))\n  File \"/zhome/30/0/70339/.local/lib/python3.6/site-packages/tornado/gen.py\", line 209, in wrapper\n    yielded = next(result)\n  File \"/zhome/30/0/70339/.local/lib/python3.6/site-packages/ipykernel/kernelbase.py\", line 268, in dispatch_shell\n    yield gen.maybe_future(handler(stream, idents, msg))\n  File \"/zhome/30/0/70339/.local/lib/python3.6/site-packages/tornado/gen.py\", line 209, in wrapper\n    yielded = next(result)\n  File \"/zhome/30/0/70339/.local/lib/python3.6/site-packages/ipykernel/kernelbase.py\", line 541, in execute_request\n    user_expressions, allow_stdin,\n  File \"/zhome/30/0/70339/.local/lib/python3.6/site-packages/tornado/gen.py\", line 209, in wrapper\n    yielded = next(result)\n  File \"/zhome/30/0/70339/.local/lib/python3.6/site-packages/ipykernel/ipkernel.py\", line 300, in do_execute\n    res = shell.run_cell(code, store_history=store_history, silent=silent)\n  File \"/zhome/30/0/70339/.local/lib/python3.6/site-packages/ipykernel/zmqshell.py\", line 536, in run_cell\n    return super(ZMQInteractiveShell, self).run_cell(*args, **kwargs)\n  File \"/zhome/30/0/70339/.local/lib/python3.6/site-packages/IPython/core/interactiveshell.py\", line 2858, in run_cell\n    raw_cell, store_history, silent, shell_futures)\n  File \"/zhome/30/0/70339/.local/lib/python3.6/site-packages/IPython/core/interactiveshell.py\", line 2886, in _run_cell\n    return runner(coro)\n  File \"/zhome/30/0/70339/.local/lib/python3.6/site-packages/IPython/core/async_helpers.py\", line 68, in _pseudo_sync_runner\n    coro.send(None)\n  File \"/zhome/30/0/70339/.local/lib/python3.6/site-packages/IPython/core/interactiveshell.py\", line 3063, in run_cell_async\n    interactivity=interactivity, compiler=compiler, result=result)\n  File \"/zhome/30/0/70339/.local/lib/python3.6/site-packages/IPython/core/interactiveshell.py\", line 3254, in run_ast_nodes\n    if (await self.run_code(code, result,  async_=asy)):\n  File \"/zhome/30/0/70339/.local/lib/python3.6/site-packages/IPython/core/interactiveshell.py\", line 3331, in run_code\n    exec(code_obj, self.user_global_ns, self.user_ns)\n  File \"<ipython-input-10-6805846cf019>\", line 35, in <module>\n    generator = Generator(vocab_size, BATCH_SIZE, EMB_DIM, HIDDEN_DIM, SEQ_LENGTH, START_TOKEN,learning_rate=g_lr)\n  File \"/zhome/30/0/70339/courses/music/coding/seqGAN/official/SeqGAN/generator.py\", line 123, in __init__\n    self.g_grad, _ = tf.clip_by_global_norm(tf.gradients(self.g_loss, self.g_params), self.grad_clip)\n  File \"/zhome/30/0/70339/.local/lib/python3.6/site-packages/tensorflow/python/ops/clip_ops.py\", line 271, in clip_by_global_norm\n    \"Found Inf or NaN global norm.\")\n  File \"/zhome/30/0/70339/.local/lib/python3.6/site-packages/tensorflow/python/ops/numerics.py\", line 44, in verify_tensor_all_finite\n    return verify_tensor_all_finite_v2(t, msg, name)\n  File \"/zhome/30/0/70339/.local/lib/python3.6/site-packages/tensorflow/python/ops/numerics.py\", line 62, in verify_tensor_all_finite_v2\n    verify_input = array_ops.check_numerics(x, message=message)\n  File \"/zhome/30/0/70339/.local/lib/python3.6/site-packages/tensorflow/python/ops/gen_array_ops.py\", line 919, in check_numerics\n    \"CheckNumerics\", tensor=tensor, message=message, name=name)\n  File \"/zhome/30/0/70339/.local/lib/python3.6/site-packages/tensorflow/python/framework/op_def_library.py\", line 788, in _apply_op_helper\n    op_def=op_def)\n  File \"/zhome/30/0/70339/.local/lib/python3.6/site-packages/tensorflow/python/util/deprecation.py\", line 507, in new_func\n    return func(*args, **kwargs)\n  File \"/zhome/30/0/70339/.local/lib/python3.6/site-packages/tensorflow/python/framework/ops.py\", line 3300, in create_op\n    op_def=op_def)\n  File \"/zhome/30/0/70339/.local/lib/python3.6/site-packages/tensorflow/python/framework/ops.py\", line 1801, in __init__\n    self._traceback = tf_stack.extract_stack()\n\nInvalidArgumentError (see above for traceback): Found Inf or NaN global norm. : Tensor had NaN values\n\t [[node VerifyFinite_1/CheckNumerics (defined at /zhome/30/0/70339/courses/music/coding/seqGAN/official/SeqGAN/generator.py:123) ]]\n",
     "output_type": "error",
     "traceback": [
      "\u001b[0;31m---------------------------------------------------------------------------\u001b[0m",
      "\u001b[0;31mInvalidArgumentError\u001b[0m                      Traceback (most recent call last)",
      "\u001b[0;32m~/.local/lib/python3.6/site-packages/tensorflow/python/client/session.py\u001b[0m in \u001b[0;36m_do_call\u001b[0;34m(self, fn, *args)\u001b[0m\n\u001b[1;32m   1333\u001b[0m     \u001b[0;32mtry\u001b[0m\u001b[0;34m:\u001b[0m\u001b[0;34m\u001b[0m\u001b[0m\n\u001b[0;32m-> 1334\u001b[0;31m       \u001b[0;32mreturn\u001b[0m \u001b[0mfn\u001b[0m\u001b[0;34m(\u001b[0m\u001b[0;34m*\u001b[0m\u001b[0margs\u001b[0m\u001b[0;34m)\u001b[0m\u001b[0;34m\u001b[0m\u001b[0m\n\u001b[0m\u001b[1;32m   1335\u001b[0m     \u001b[0;32mexcept\u001b[0m \u001b[0merrors\u001b[0m\u001b[0;34m.\u001b[0m\u001b[0mOpError\u001b[0m \u001b[0;32mas\u001b[0m \u001b[0me\u001b[0m\u001b[0;34m:\u001b[0m\u001b[0;34m\u001b[0m\u001b[0m\n",
      "\u001b[0;32m~/.local/lib/python3.6/site-packages/tensorflow/python/client/session.py\u001b[0m in \u001b[0;36m_run_fn\u001b[0;34m(feed_dict, fetch_list, target_list, options, run_metadata)\u001b[0m\n\u001b[1;32m   1318\u001b[0m       return self._call_tf_sessionrun(\n\u001b[0;32m-> 1319\u001b[0;31m           options, feed_dict, fetch_list, target_list, run_metadata)\n\u001b[0m\u001b[1;32m   1320\u001b[0m \u001b[0;34m\u001b[0m\u001b[0m\n",
      "\u001b[0;32m~/.local/lib/python3.6/site-packages/tensorflow/python/client/session.py\u001b[0m in \u001b[0;36m_call_tf_sessionrun\u001b[0;34m(self, options, feed_dict, fetch_list, target_list, run_metadata)\u001b[0m\n\u001b[1;32m   1406\u001b[0m         \u001b[0mself\u001b[0m\u001b[0;34m.\u001b[0m\u001b[0m_session\u001b[0m\u001b[0;34m,\u001b[0m \u001b[0moptions\u001b[0m\u001b[0;34m,\u001b[0m \u001b[0mfeed_dict\u001b[0m\u001b[0;34m,\u001b[0m \u001b[0mfetch_list\u001b[0m\u001b[0;34m,\u001b[0m \u001b[0mtarget_list\u001b[0m\u001b[0;34m,\u001b[0m\u001b[0;34m\u001b[0m\u001b[0m\n\u001b[0;32m-> 1407\u001b[0;31m         run_metadata)\n\u001b[0m\u001b[1;32m   1408\u001b[0m \u001b[0;34m\u001b[0m\u001b[0m\n",
      "\u001b[0;31mInvalidArgumentError\u001b[0m: Found Inf or NaN global norm. : Tensor had NaN values\n\t [[{{node VerifyFinite_1/CheckNumerics}}]]",
      "\nDuring handling of the above exception, another exception occurred:\n",
      "\u001b[0;31mInvalidArgumentError\u001b[0m                      Traceback (most recent call last)",
      "\u001b[0;32m<ipython-input-19-355c0516084c>\u001b[0m in \u001b[0;36m<module>\u001b[0;34m\u001b[0m\n\u001b[1;32m      1\u001b[0m \u001b[0;32mfor\u001b[0m \u001b[0mit\u001b[0m \u001b[0;32min\u001b[0m \u001b[0mrange\u001b[0m\u001b[0;34m(\u001b[0m\u001b[0;36m10000\u001b[0m\u001b[0;34m)\u001b[0m\u001b[0;34m:\u001b[0m\u001b[0;34m\u001b[0m\u001b[0m\n\u001b[1;32m      2\u001b[0m     \u001b[0;32mfor\u001b[0m \u001b[0mtemp\u001b[0m\u001b[0;34m,\u001b[0m \u001b[0mgen\u001b[0m\u001b[0;34m,\u001b[0m \u001b[0mgan\u001b[0m \u001b[0;32min\u001b[0m \u001b[0mzip\u001b[0m\u001b[0;34m(\u001b[0m\u001b[0;34m[\u001b[0m\u001b[0;36m9999\u001b[0m\u001b[0;34m,\u001b[0m\u001b[0;36m.25\u001b[0m\u001b[0;34m]\u001b[0m\u001b[0;34m,\u001b[0m\u001b[0;34m[\u001b[0m\u001b[0mgenerator\u001b[0m\u001b[0;34m,\u001b[0m\u001b[0mgenerator_ent\u001b[0m\u001b[0;34m]\u001b[0m\u001b[0;34m,\u001b[0m\u001b[0;34m[\u001b[0m\u001b[0mgan_trainer\u001b[0m\u001b[0;34m,\u001b[0m \u001b[0mgan_trainer_ent\u001b[0m\u001b[0;34m]\u001b[0m\u001b[0;34m)\u001b[0m\u001b[0;34m:\u001b[0m\u001b[0;34m\u001b[0m\u001b[0m\n\u001b[0;32m----> 3\u001b[0;31m         \u001b[0mtest_loss\u001b[0m\u001b[0;34m,\u001b[0m \u001b[0mg_loss\u001b[0m \u001b[0;34m=\u001b[0m \u001b[0mgan\u001b[0m\u001b[0;34m.\u001b[0m\u001b[0madvtrain_gen\u001b[0m\u001b[0;34m(\u001b[0m\u001b[0msess\u001b[0m\u001b[0;34m,\u001b[0m\u001b[0;36m1\u001b[0m\u001b[0;34m,\u001b[0m\u001b[0;36m64\u001b[0m\u001b[0;34m,\u001b[0m\u001b[0mtemp\u001b[0m\u001b[0;34m)\u001b[0m\u001b[0;34m\u001b[0m\u001b[0m\n\u001b[0m\u001b[1;32m      4\u001b[0m         policy_ent = sess.run(gen.pretrain_loss,\n\u001b[1;32m      5\u001b[0m                 {gen.x: gen.generate(sess)})\n",
      "\u001b[0;32m~/courses/music/coding/seqGAN/official/SeqGAN/gan_trainer.py\u001b[0m in \u001b[0;36madvtrain_gen\u001b[0;34m(self, sess, epochs_generator, rollout_num, ent_temp)\u001b[0m\n\u001b[1;32m    127\u001b[0m             \u001b[0mrewards\u001b[0m \u001b[0;34m=\u001b[0m \u001b[0mself\u001b[0m\u001b[0;34m.\u001b[0m\u001b[0mrollout\u001b[0m\u001b[0;34m.\u001b[0m\u001b[0mget_reward\u001b[0m\u001b[0;34m(\u001b[0m\u001b[0msess\u001b[0m\u001b[0;34m,\u001b[0m \u001b[0msamples\u001b[0m\u001b[0;34m,\u001b[0m \u001b[0mrollout_num\u001b[0m\u001b[0;34m,\u001b[0m \u001b[0mself\u001b[0m\u001b[0;34m.\u001b[0m\u001b[0mdiscriminator\u001b[0m\u001b[0;34m,\u001b[0m \u001b[0ment_temp\u001b[0m\u001b[0;34m=\u001b[0m\u001b[0ment_temp\u001b[0m\u001b[0;34m)\u001b[0m\u001b[0;34m\u001b[0m\u001b[0m\n\u001b[1;32m    128\u001b[0m             \u001b[0mfeed\u001b[0m \u001b[0;34m=\u001b[0m \u001b[0;34m{\u001b[0m\u001b[0mself\u001b[0m\u001b[0;34m.\u001b[0m\u001b[0mgenerator\u001b[0m\u001b[0;34m.\u001b[0m\u001b[0mx\u001b[0m\u001b[0;34m:\u001b[0m \u001b[0msamples\u001b[0m\u001b[0;34m,\u001b[0m \u001b[0mself\u001b[0m\u001b[0;34m.\u001b[0m\u001b[0mgenerator\u001b[0m\u001b[0;34m.\u001b[0m\u001b[0mrewards\u001b[0m\u001b[0;34m:\u001b[0m \u001b[0mrewards\u001b[0m\u001b[0;34m}\u001b[0m\u001b[0;34m\u001b[0m\u001b[0m\n\u001b[0;32m--> 129\u001b[0;31m             \u001b[0m_\u001b[0m \u001b[0;34m=\u001b[0m \u001b[0msess\u001b[0m\u001b[0;34m.\u001b[0m\u001b[0mrun\u001b[0m\u001b[0;34m(\u001b[0m\u001b[0mself\u001b[0m\u001b[0;34m.\u001b[0m\u001b[0mgenerator\u001b[0m\u001b[0;34m.\u001b[0m\u001b[0mg_updates\u001b[0m\u001b[0;34m,\u001b[0m \u001b[0mfeed_dict\u001b[0m\u001b[0;34m=\u001b[0m\u001b[0mfeed\u001b[0m\u001b[0;34m)\u001b[0m\u001b[0;34m\u001b[0m\u001b[0m\n\u001b[0m\u001b[1;32m    130\u001b[0m \u001b[0;34m\u001b[0m\u001b[0m\n\u001b[1;32m    131\u001b[0m \u001b[0;34m\u001b[0m\u001b[0m\n",
      "\u001b[0;32m~/.local/lib/python3.6/site-packages/tensorflow/python/client/session.py\u001b[0m in \u001b[0;36mrun\u001b[0;34m(self, fetches, feed_dict, options, run_metadata)\u001b[0m\n\u001b[1;32m    927\u001b[0m     \u001b[0;32mtry\u001b[0m\u001b[0;34m:\u001b[0m\u001b[0;34m\u001b[0m\u001b[0m\n\u001b[1;32m    928\u001b[0m       result = self._run(None, fetches, feed_dict, options_ptr,\n\u001b[0;32m--> 929\u001b[0;31m                          run_metadata_ptr)\n\u001b[0m\u001b[1;32m    930\u001b[0m       \u001b[0;32mif\u001b[0m \u001b[0mrun_metadata\u001b[0m\u001b[0;34m:\u001b[0m\u001b[0;34m\u001b[0m\u001b[0m\n\u001b[1;32m    931\u001b[0m         \u001b[0mproto_data\u001b[0m \u001b[0;34m=\u001b[0m \u001b[0mtf_session\u001b[0m\u001b[0;34m.\u001b[0m\u001b[0mTF_GetBuffer\u001b[0m\u001b[0;34m(\u001b[0m\u001b[0mrun_metadata_ptr\u001b[0m\u001b[0;34m)\u001b[0m\u001b[0;34m\u001b[0m\u001b[0m\n",
      "\u001b[0;32m~/.local/lib/python3.6/site-packages/tensorflow/python/client/session.py\u001b[0m in \u001b[0;36m_run\u001b[0;34m(self, handle, fetches, feed_dict, options, run_metadata)\u001b[0m\n\u001b[1;32m   1150\u001b[0m     \u001b[0;32mif\u001b[0m \u001b[0mfinal_fetches\u001b[0m \u001b[0;32mor\u001b[0m \u001b[0mfinal_targets\u001b[0m \u001b[0;32mor\u001b[0m \u001b[0;34m(\u001b[0m\u001b[0mhandle\u001b[0m \u001b[0;32mand\u001b[0m \u001b[0mfeed_dict_tensor\u001b[0m\u001b[0;34m)\u001b[0m\u001b[0;34m:\u001b[0m\u001b[0;34m\u001b[0m\u001b[0m\n\u001b[1;32m   1151\u001b[0m       results = self._do_run(handle, final_targets, final_fetches,\n\u001b[0;32m-> 1152\u001b[0;31m                              feed_dict_tensor, options, run_metadata)\n\u001b[0m\u001b[1;32m   1153\u001b[0m     \u001b[0;32melse\u001b[0m\u001b[0;34m:\u001b[0m\u001b[0;34m\u001b[0m\u001b[0m\n\u001b[1;32m   1154\u001b[0m       \u001b[0mresults\u001b[0m \u001b[0;34m=\u001b[0m \u001b[0;34m[\u001b[0m\u001b[0;34m]\u001b[0m\u001b[0;34m\u001b[0m\u001b[0m\n",
      "\u001b[0;32m~/.local/lib/python3.6/site-packages/tensorflow/python/client/session.py\u001b[0m in \u001b[0;36m_do_run\u001b[0;34m(self, handle, target_list, fetch_list, feed_dict, options, run_metadata)\u001b[0m\n\u001b[1;32m   1326\u001b[0m     \u001b[0;32mif\u001b[0m \u001b[0mhandle\u001b[0m \u001b[0;32mis\u001b[0m \u001b[0;32mNone\u001b[0m\u001b[0;34m:\u001b[0m\u001b[0;34m\u001b[0m\u001b[0m\n\u001b[1;32m   1327\u001b[0m       return self._do_call(_run_fn, feeds, fetches, targets, options,\n\u001b[0;32m-> 1328\u001b[0;31m                            run_metadata)\n\u001b[0m\u001b[1;32m   1329\u001b[0m     \u001b[0;32melse\u001b[0m\u001b[0;34m:\u001b[0m\u001b[0;34m\u001b[0m\u001b[0m\n\u001b[1;32m   1330\u001b[0m       \u001b[0;32mreturn\u001b[0m \u001b[0mself\u001b[0m\u001b[0;34m.\u001b[0m\u001b[0m_do_call\u001b[0m\u001b[0;34m(\u001b[0m\u001b[0m_prun_fn\u001b[0m\u001b[0;34m,\u001b[0m \u001b[0mhandle\u001b[0m\u001b[0;34m,\u001b[0m \u001b[0mfeeds\u001b[0m\u001b[0;34m,\u001b[0m \u001b[0mfetches\u001b[0m\u001b[0;34m)\u001b[0m\u001b[0;34m\u001b[0m\u001b[0m\n",
      "\u001b[0;32m~/.local/lib/python3.6/site-packages/tensorflow/python/client/session.py\u001b[0m in \u001b[0;36m_do_call\u001b[0;34m(self, fn, *args)\u001b[0m\n\u001b[1;32m   1346\u001b[0m           \u001b[0;32mpass\u001b[0m\u001b[0;34m\u001b[0m\u001b[0m\n\u001b[1;32m   1347\u001b[0m       \u001b[0mmessage\u001b[0m \u001b[0;34m=\u001b[0m \u001b[0merror_interpolation\u001b[0m\u001b[0;34m.\u001b[0m\u001b[0minterpolate\u001b[0m\u001b[0;34m(\u001b[0m\u001b[0mmessage\u001b[0m\u001b[0;34m,\u001b[0m \u001b[0mself\u001b[0m\u001b[0;34m.\u001b[0m\u001b[0m_graph\u001b[0m\u001b[0;34m)\u001b[0m\u001b[0;34m\u001b[0m\u001b[0m\n\u001b[0;32m-> 1348\u001b[0;31m       \u001b[0;32mraise\u001b[0m \u001b[0mtype\u001b[0m\u001b[0;34m(\u001b[0m\u001b[0me\u001b[0m\u001b[0;34m)\u001b[0m\u001b[0;34m(\u001b[0m\u001b[0mnode_def\u001b[0m\u001b[0;34m,\u001b[0m \u001b[0mop\u001b[0m\u001b[0;34m,\u001b[0m \u001b[0mmessage\u001b[0m\u001b[0;34m)\u001b[0m\u001b[0;34m\u001b[0m\u001b[0m\n\u001b[0m\u001b[1;32m   1349\u001b[0m \u001b[0;34m\u001b[0m\u001b[0m\n\u001b[1;32m   1350\u001b[0m   \u001b[0;32mdef\u001b[0m \u001b[0m_extend_graph\u001b[0m\u001b[0;34m(\u001b[0m\u001b[0mself\u001b[0m\u001b[0;34m)\u001b[0m\u001b[0;34m:\u001b[0m\u001b[0;34m\u001b[0m\u001b[0m\n",
      "\u001b[0;31mInvalidArgumentError\u001b[0m: Found Inf or NaN global norm. : Tensor had NaN values\n\t [[node VerifyFinite_1/CheckNumerics (defined at /zhome/30/0/70339/courses/music/coding/seqGAN/official/SeqGAN/generator.py:123) ]]\n\nCaused by op 'VerifyFinite_1/CheckNumerics', defined at:\n  File \"/appl/python/3.6.2/lib/python3.6/runpy.py\", line 193, in _run_module_as_main\n    \"__main__\", mod_spec)\n  File \"/appl/python/3.6.2/lib/python3.6/runpy.py\", line 85, in _run_code\n    exec(code, run_globals)\n  File \"/zhome/30/0/70339/.local/lib/python3.6/site-packages/ipykernel_launcher.py\", line 16, in <module>\n    app.launch_new_instance()\n  File \"/zhome/30/0/70339/.local/lib/python3.6/site-packages/traitlets/config/application.py\", line 664, in launch_instance\n    app.start()\n  File \"/zhome/30/0/70339/.local/lib/python3.6/site-packages/ipykernel/kernelapp.py\", line 583, in start\n    self.io_loop.start()\n  File \"/zhome/30/0/70339/.local/lib/python3.6/site-packages/tornado/platform/asyncio.py\", line 149, in start\n    self.asyncio_loop.run_forever()\n  File \"/appl/python/3.6.2/lib/python3.6/asyncio/base_events.py\", line 421, in run_forever\n    self._run_once()\n  File \"/appl/python/3.6.2/lib/python3.6/asyncio/base_events.py\", line 1426, in _run_once\n    handle._run()\n  File \"/appl/python/3.6.2/lib/python3.6/asyncio/events.py\", line 127, in _run\n    self._callback(*self._args)\n  File \"/zhome/30/0/70339/.local/lib/python3.6/site-packages/tornado/ioloop.py\", line 690, in <lambda>\n    lambda f: self._run_callback(functools.partial(callback, future))\n  File \"/zhome/30/0/70339/.local/lib/python3.6/site-packages/tornado/ioloop.py\", line 743, in _run_callback\n    ret = callback()\n  File \"/zhome/30/0/70339/.local/lib/python3.6/site-packages/tornado/gen.py\", line 787, in inner\n    self.run()\n  File \"/zhome/30/0/70339/.local/lib/python3.6/site-packages/tornado/gen.py\", line 748, in run\n    yielded = self.gen.send(value)\n  File \"/zhome/30/0/70339/.local/lib/python3.6/site-packages/ipykernel/kernelbase.py\", line 377, in dispatch_queue\n    yield self.process_one()\n  File \"/zhome/30/0/70339/.local/lib/python3.6/site-packages/tornado/gen.py\", line 225, in wrapper\n    runner = Runner(result, future, yielded)\n  File \"/zhome/30/0/70339/.local/lib/python3.6/site-packages/tornado/gen.py\", line 714, in __init__\n    self.run()\n  File \"/zhome/30/0/70339/.local/lib/python3.6/site-packages/tornado/gen.py\", line 748, in run\n    yielded = self.gen.send(value)\n  File \"/zhome/30/0/70339/.local/lib/python3.6/site-packages/ipykernel/kernelbase.py\", line 361, in process_one\n    yield gen.maybe_future(dispatch(*args))\n  File \"/zhome/30/0/70339/.local/lib/python3.6/site-packages/tornado/gen.py\", line 209, in wrapper\n    yielded = next(result)\n  File \"/zhome/30/0/70339/.local/lib/python3.6/site-packages/ipykernel/kernelbase.py\", line 268, in dispatch_shell\n    yield gen.maybe_future(handler(stream, idents, msg))\n  File \"/zhome/30/0/70339/.local/lib/python3.6/site-packages/tornado/gen.py\", line 209, in wrapper\n    yielded = next(result)\n  File \"/zhome/30/0/70339/.local/lib/python3.6/site-packages/ipykernel/kernelbase.py\", line 541, in execute_request\n    user_expressions, allow_stdin,\n  File \"/zhome/30/0/70339/.local/lib/python3.6/site-packages/tornado/gen.py\", line 209, in wrapper\n    yielded = next(result)\n  File \"/zhome/30/0/70339/.local/lib/python3.6/site-packages/ipykernel/ipkernel.py\", line 300, in do_execute\n    res = shell.run_cell(code, store_history=store_history, silent=silent)\n  File \"/zhome/30/0/70339/.local/lib/python3.6/site-packages/ipykernel/zmqshell.py\", line 536, in run_cell\n    return super(ZMQInteractiveShell, self).run_cell(*args, **kwargs)\n  File \"/zhome/30/0/70339/.local/lib/python3.6/site-packages/IPython/core/interactiveshell.py\", line 2858, in run_cell\n    raw_cell, store_history, silent, shell_futures)\n  File \"/zhome/30/0/70339/.local/lib/python3.6/site-packages/IPython/core/interactiveshell.py\", line 2886, in _run_cell\n    return runner(coro)\n  File \"/zhome/30/0/70339/.local/lib/python3.6/site-packages/IPython/core/async_helpers.py\", line 68, in _pseudo_sync_runner\n    coro.send(None)\n  File \"/zhome/30/0/70339/.local/lib/python3.6/site-packages/IPython/core/interactiveshell.py\", line 3063, in run_cell_async\n    interactivity=interactivity, compiler=compiler, result=result)\n  File \"/zhome/30/0/70339/.local/lib/python3.6/site-packages/IPython/core/interactiveshell.py\", line 3254, in run_ast_nodes\n    if (await self.run_code(code, result,  async_=asy)):\n  File \"/zhome/30/0/70339/.local/lib/python3.6/site-packages/IPython/core/interactiveshell.py\", line 3331, in run_code\n    exec(code_obj, self.user_global_ns, self.user_ns)\n  File \"<ipython-input-10-6805846cf019>\", line 35, in <module>\n    generator = Generator(vocab_size, BATCH_SIZE, EMB_DIM, HIDDEN_DIM, SEQ_LENGTH, START_TOKEN,learning_rate=g_lr)\n  File \"/zhome/30/0/70339/courses/music/coding/seqGAN/official/SeqGAN/generator.py\", line 123, in __init__\n    self.g_grad, _ = tf.clip_by_global_norm(tf.gradients(self.g_loss, self.g_params), self.grad_clip)\n  File \"/zhome/30/0/70339/.local/lib/python3.6/site-packages/tensorflow/python/ops/clip_ops.py\", line 271, in clip_by_global_norm\n    \"Found Inf or NaN global norm.\")\n  File \"/zhome/30/0/70339/.local/lib/python3.6/site-packages/tensorflow/python/ops/numerics.py\", line 44, in verify_tensor_all_finite\n    return verify_tensor_all_finite_v2(t, msg, name)\n  File \"/zhome/30/0/70339/.local/lib/python3.6/site-packages/tensorflow/python/ops/numerics.py\", line 62, in verify_tensor_all_finite_v2\n    verify_input = array_ops.check_numerics(x, message=message)\n  File \"/zhome/30/0/70339/.local/lib/python3.6/site-packages/tensorflow/python/ops/gen_array_ops.py\", line 919, in check_numerics\n    \"CheckNumerics\", tensor=tensor, message=message, name=name)\n  File \"/zhome/30/0/70339/.local/lib/python3.6/site-packages/tensorflow/python/framework/op_def_library.py\", line 788, in _apply_op_helper\n    op_def=op_def)\n  File \"/zhome/30/0/70339/.local/lib/python3.6/site-packages/tensorflow/python/util/deprecation.py\", line 507, in new_func\n    return func(*args, **kwargs)\n  File \"/zhome/30/0/70339/.local/lib/python3.6/site-packages/tensorflow/python/framework/ops.py\", line 3300, in create_op\n    op_def=op_def)\n  File \"/zhome/30/0/70339/.local/lib/python3.6/site-packages/tensorflow/python/framework/ops.py\", line 1801, in __init__\n    self._traceback = tf_stack.extract_stack()\n\nInvalidArgumentError (see above for traceback): Found Inf or NaN global norm. : Tensor had NaN values\n\t [[node VerifyFinite_1/CheckNumerics (defined at /zhome/30/0/70339/courses/music/coding/seqGAN/official/SeqGAN/generator.py:123) ]]\n"
     ]
    }
   ],
   "source": [
    "for it in range(10000):\n",
    "    for temp, gen, gan in zip([9999,.25],[generator,generator_ent],[gan_trainer, gan_trainer_ent]):\n",
    "        test_loss, g_loss = gan.advtrain_gen(sess,1,64,temp)\n",
    "        policy_ent = sess.run(gen.pretrain_loss,\n",
    "                {gen.x: gen.generate(sess)})\n",
    "        class_ = 1\n",
    "        predictions = np.array([])\n",
    "        for i in range(10):\n",
    "            predictions = np.concatenate((predictions,sess.run(discriminator.ypred_for_auc, {discriminator.input_x: gen.generate(sess), discriminator.dropout_keep_prob: dis_dropout_keep_prob})[:,class_]))\n",
    "        #self.writer.add_scalar('Loss/discrim_loss', disc_loss, total_batch)\n",
    "        #print(\"discrim  --  min: {}, max: {}, ll: {}, loss: {}\".format(min(predictions),max(predictions),np.mean(np.log(predictions)),disc_loss))\n",
    "        if it % 10 == 0:\n",
    "            print(\"GenT: {:.4f} -  test_loss: {:.4f}, g_loss: {:.4f}, pol_ent: {:.4f}, ll_disc: {:.4f}, maxp_disc: {:.4f}, minp_disc: {:.4f}\"\n",
    "                .format(temp, test_loss, g_loss,policy_ent,np.mean(np.log(predictions)),max(predictions),min(predictions)))\n",
    "    "
   ]
  },
  {
   "cell_type": "code",
   "execution_count": null,
   "metadata": {},
   "outputs": [],
   "source": [
    "#ll is not affected too much by training"
   ]
  },
  {
   "cell_type": "code",
   "execution_count": null,
   "metadata": {},
   "outputs": [],
   "source": [
    "x_t = tf.nn.embedding_lookup(generator.g_embeddings, [10]*128)\n",
    "h_tm1 = generator.h0\n",
    "h_t = generator.g_recurrent_unit(x_t, h_tm1)  # hidden_memory_tuple\n",
    "o_t = generator.g_output_unit(h_t)  # batch x vocab , logits not prob\n",
    "#log_prob = tf.log(tf.nn.softmax(o_t))\n",
    "dist0 = sess.run(tf.nn.softmax(o_t))[0,:]"
   ]
  },
  {
   "cell_type": "code",
   "execution_count": null,
   "metadata": {},
   "outputs": [],
   "source": [
    "plt.bar(vocab, dist0)"
   ]
  },
  {
   "cell_type": "code",
   "execution_count": null,
   "metadata": {},
   "outputs": [],
   "source": [
    "x_t = tf.nn.embedding_lookup(generator_ent.g_embeddings, [10]*128)\n",
    "h_tm1 = generator_ent.h0\n",
    "h_t = generator_ent.g_recurrent_unit(x_t, h_tm1)  # hidden_memory_tuple\n",
    "o_t = generator_ent.g_output_unit(h_t)  # batch x vocab , logits not prob\n",
    "#log_prob = tf.log(tf.nn.softmax(o_t))\n",
    "dist0_ent = sess.run(tf.nn.softmax(o_t))[0,:]"
   ]
  },
  {
   "cell_type": "code",
   "execution_count": null,
   "metadata": {},
   "outputs": [],
   "source": [
    "plt.bar(vocab, dist0_ent)"
   ]
  },
  {
   "cell_type": "code",
   "execution_count": null,
   "metadata": {},
   "outputs": [],
   "source": [
    "plt.bar(vocab,tabular_model.table[\"10\"])"
   ]
  }
 ],
 "metadata": {
  "kernelspec": {
   "display_name": "Python 3",
   "language": "python",
   "name": "python3"
  },
  "language_info": {
   "codemirror_mode": {
    "name": "ipython",
    "version": 3
   },
   "file_extension": ".py",
   "mimetype": "text/x-python",
   "name": "python",
   "nbconvert_exporter": "python",
   "pygments_lexer": "ipython3",
   "version": "3.6.2"
  }
 },
 "nbformat": 4,
 "nbformat_minor": 4
}
