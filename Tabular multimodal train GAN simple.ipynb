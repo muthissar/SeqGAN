{
 "cells": [
  {
   "cell_type": "code",
   "execution_count": 1,
   "metadata": {},
   "outputs": [],
   "source": [
    "%matplotlib inline\n",
    "%load_ext autoreload\n",
    "%autoreload 2"
   ]
  },
  {
   "cell_type": "code",
   "execution_count": 2,
   "metadata": {},
   "outputs": [
    {
     "name": "stderr",
     "output_type": "stream",
     "text": [
      "/zhome/30/0/70339/.local/lib/python3.6/site-packages/tensorflow/python/framework/dtypes.py:526: FutureWarning: Passing (type, 1) or '1type' as a synonym of type is deprecated; in a future version of numpy, it will be understood as (type, (1,)) / '(1,)type'.\n",
      "  _np_qint8 = np.dtype([(\"qint8\", np.int8, 1)])\n",
      "/zhome/30/0/70339/.local/lib/python3.6/site-packages/tensorflow/python/framework/dtypes.py:527: FutureWarning: Passing (type, 1) or '1type' as a synonym of type is deprecated; in a future version of numpy, it will be understood as (type, (1,)) / '(1,)type'.\n",
      "  _np_quint8 = np.dtype([(\"quint8\", np.uint8, 1)])\n",
      "/zhome/30/0/70339/.local/lib/python3.6/site-packages/tensorflow/python/framework/dtypes.py:528: FutureWarning: Passing (type, 1) or '1type' as a synonym of type is deprecated; in a future version of numpy, it will be understood as (type, (1,)) / '(1,)type'.\n",
      "  _np_qint16 = np.dtype([(\"qint16\", np.int16, 1)])\n",
      "/zhome/30/0/70339/.local/lib/python3.6/site-packages/tensorflow/python/framework/dtypes.py:529: FutureWarning: Passing (type, 1) or '1type' as a synonym of type is deprecated; in a future version of numpy, it will be understood as (type, (1,)) / '(1,)type'.\n",
      "  _np_quint16 = np.dtype([(\"quint16\", np.uint16, 1)])\n",
      "/zhome/30/0/70339/.local/lib/python3.6/site-packages/tensorflow/python/framework/dtypes.py:530: FutureWarning: Passing (type, 1) or '1type' as a synonym of type is deprecated; in a future version of numpy, it will be understood as (type, (1,)) / '(1,)type'.\n",
      "  _np_qint32 = np.dtype([(\"qint32\", np.int32, 1)])\n",
      "/zhome/30/0/70339/.local/lib/python3.6/site-packages/tensorflow/python/framework/dtypes.py:535: FutureWarning: Passing (type, 1) or '1type' as a synonym of type is deprecated; in a future version of numpy, it will be understood as (type, (1,)) / '(1,)type'.\n",
      "  np_resource = np.dtype([(\"resource\", np.ubyte, 1)])\n"
     ]
    }
   ],
   "source": [
    "import numpy as np\n",
    "import matplotlib.pyplot as plt\n",
    "from tabular_simple import TabularSimple, TabularNormal\n",
    "from generator import Generator\n",
    "from discriminator import Discriminator\n",
    "from rollout_max_ent import ROLLOUT\n",
    "import tensorflow as tf\n",
    "from gan_trainer import GanTrainer\n",
    "from dataloader import Gen_Data_loader, Dis_dataloader"
   ]
  },
  {
   "cell_type": "code",
   "execution_count": 3,
   "metadata": {},
   "outputs": [],
   "source": [
    "n_modes = 2\n",
    "vocab_size = 30\n",
    "vocab = range(vocab_size)\n",
    "SEQ_LENGTH = 4\n",
    "#tabular_model = TabularSimple(SEQ_LENGTH,n_vocabulary,n_modes)\n",
    "tabular_model = TabularNormal(SEQ_LENGTH,vocab_size,n_modes)"
   ]
  },
  {
   "cell_type": "code",
   "execution_count": 4,
   "metadata": {},
   "outputs": [
    {
     "data": {
      "text/plain": [
       "<BarContainer object of 30 artists>"
      ]
     },
     "execution_count": 4,
     "metadata": {},
     "output_type": "execute_result"
    },
    {
     "data": {
      "image/png": "[encoded data removed]",
      "text/plain": [
       "<Figure size 432x288 with 1 Axes>"
      ]
     },
     "metadata": {
      "needs_background": "light"
     },
     "output_type": "display_data"
    }
   ],
   "source": [
    "dist = tabular_model.table[\"\"]\n",
    "plt.bar(vocab, dist)"
   ]
  },
  {
   "cell_type": "code",
   "execution_count": 5,
   "metadata": {},
   "outputs": [],
   "source": [
    "size = 10000\n",
    "samples = tabular_model.sample(size)"
   ]
  },
  {
   "cell_type": "code",
   "execution_count": 6,
   "metadata": {},
   "outputs": [],
   "source": [
    "positive_file = 'save/real_data_tab_simple.txt'"
   ]
  },
  {
   "cell_type": "code",
   "execution_count": 7,
   "metadata": {},
   "outputs": [],
   "source": [
    "np.savetxt(positive_file,samples,fmt='%d',delimiter=' ')"
   ]
  },
  {
   "cell_type": "code",
   "execution_count": 8,
   "metadata": {},
   "outputs": [
    {
     "data": {
      "text/plain": [
       "27931"
      ]
     },
     "execution_count": 8,
     "metadata": {},
     "output_type": "execute_result"
    }
   ],
   "source": [
    "len(list(tabular_model.table.keys()))"
   ]
  },
  {
   "cell_type": "code",
   "execution_count": 9,
   "metadata": {},
   "outputs": [
    {
     "data": {
      "text/plain": [
       "-2.7922480562402905"
      ]
     },
     "execution_count": 9,
     "metadata": {},
     "output_type": "execute_result"
    }
   ],
   "source": [
    "tabular_model.ll(samples)"
   ]
  },
  {
   "cell_type": "code",
   "execution_count": 10,
   "metadata": {},
   "outputs": [],
   "source": [
    "g1 = tf.Graph()\n",
    "g2 = tf.Graph()"
   ]
  },
  {
   "cell_type": "code",
   "execution_count": 11,
   "metadata": {},
   "outputs": [
    {
     "name": "stdout",
     "output_type": "stream",
     "text": [
      "WARNING:tensorflow:From /zhome/30/0/70339/.local/lib/python3.6/site-packages/tensorflow/python/framework/op_def_library.py:263: colocate_with (from tensorflow.python.framework.ops) is deprecated and will be removed in a future version.\n",
      "Instructions for updating:\n",
      "Colocations handled automatically by placer.\n",
      "WARNING:tensorflow:From /zhome/30/0/70339/courses/music/coding/seqGAN/official/SeqGAN/generator.py:52: multinomial (from tensorflow.python.ops.random_ops) is deprecated and will be removed in a future version.\n",
      "Instructions for updating:\n",
      "Use tf.random.categorical instead.\n",
      "WARNING:tensorflow:From /zhome/30/0/70339/courses/music/coding/seqGAN/official/SeqGAN/generator.py:94: to_int32 (from tensorflow.python.ops.math_ops) is deprecated and will be removed in a future version.\n",
      "Instructions for updating:\n",
      "Use tf.cast instead.\n",
      "WARNING:tensorflow:From /zhome/30/0/70339/courses/music/coding/seqGAN/official/SeqGAN/discriminator.py:115: calling dropout (from tensorflow.python.ops.nn_ops) with keep_prob is deprecated and will be removed in a future version.\n",
      "Instructions for updating:\n",
      "Please use `rate` instead of `keep_prob`. Rate should be set to `rate = 1 - keep_prob`.\n",
      "WARNING:tensorflow:From /zhome/30/0/70339/courses/music/coding/seqGAN/official/SeqGAN/discriminator.py:129: softmax_cross_entropy_with_logits (from tensorflow.python.ops.nn_ops) is deprecated and will be removed in a future version.\n",
      "Instructions for updating:\n",
      "\n",
      "Future major versions of TensorFlow will allow gradients to flow\n",
      "into the labels input on backprop by default.\n",
      "\n",
      "See `tf.nn.softmax_cross_entropy_with_logits_v2`.\n",
      "\n"
     ]
    }
   ],
   "source": [
    "#########################################################################################\n",
    "#  Generator  Hyper-parameters\n",
    "######################################################################################\n",
    "EMB_DIM = 4 # embedding dimension\n",
    "HIDDEN_DIM = 4 # hidden state dimension of lstm cell\n",
    "#SEQ_LENGTH = 4 # sequence length\n",
    "START_TOKEN = -1\n",
    "PRE_EPOCH_NUM = 120 # supervise (maximum likelihood estimation) epochs\n",
    "SEED = 88\n",
    "BATCH_SIZE = 256\n",
    "\n",
    "#########################################################################################\n",
    "#  Discriminator  Hyper-parameters\n",
    "#########################################################################################\n",
    "dis_embedding_dim = 4\n",
    "dis_filter_sizes = [1, 2, 3, 4]\n",
    "dis_num_filters = [200, 200, 200, 200]\n",
    "#dis_num_filters = [10, 10, 10, 10]\n",
    "dis_dropout_keep_prob = 1.0\n",
    "dis_l2_reg_lambda = 0.2\n",
    "dis_batch_size = 32\n",
    "\n",
    "#########################################################################################\n",
    "#  Basic Training Parameters\n",
    "#########################################################################################\n",
    "TOTAL_BATCH = 200\n",
    "#positive_file = 'save/real_data_tab.txt'\n",
    "negative_file = 'save/generator_sample_tab.txt'\n",
    "negative_file_ent = 'save/generator_sample_tab_ent.txt'\n",
    "#eval_file = 'save/eval_file_tab.txt'\n",
    "generated_num = 10000\n",
    "sequence_length = 6\n",
    "g_lr = 0.01\n",
    "with g1.as_default():\n",
    "    generator = Generator(vocab_size, BATCH_SIZE, EMB_DIM, HIDDEN_DIM, SEQ_LENGTH, START_TOKEN,learning_rate=g_lr)\n",
    "    discriminator = Discriminator(sequence_length=SEQ_LENGTH, num_classes=2, vocab_size=vocab_size, embedding_size=dis_embedding_dim, \n",
    "                            filter_sizes=dis_filter_sizes, num_filters=dis_num_filters, l2_reg_lambda=dis_l2_reg_lambda)\n",
    "    rollout = ROLLOUT(generator, 0.8)\n",
    "    gen_data_loader = Gen_Data_loader(BATCH_SIZE,SEQ_LENGTH)\n",
    "    dis_data_loader = Dis_dataloader(BATCH_SIZE,SEQ_LENGTH)\n",
    "    gan_trainer = GanTrainer(generator,discriminator,rollout,gen_data_loader,dis_data_loader,\n",
    "           tabular_model,'pretrain_notebook','advtrain_notebook',positive_file,negative_file,BATCH_SIZE)\n",
    "    graph1_init_op = tf.global_variables_initializer()\n",
    "    saver1 = tf.train.Saver()\n",
    "with g2.as_default():\n",
    "    generator_ent = Generator(vocab_size, BATCH_SIZE, EMB_DIM, HIDDEN_DIM, SEQ_LENGTH, START_TOKEN,learning_rate=g_lr)\n",
    "    discriminator_ent = Discriminator(sequence_length=SEQ_LENGTH, num_classes=2, vocab_size=vocab_size, embedding_size=dis_embedding_dim, \n",
    "                            filter_sizes=dis_filter_sizes, num_filters=dis_num_filters, l2_reg_lambda=dis_l2_reg_lambda)\n",
    "    rollout_ent = ROLLOUT(generator_ent, 0.8)\n",
    "    gen_data_loader_ent = Gen_Data_loader(BATCH_SIZE,SEQ_LENGTH)\n",
    "    dis_data_loader_ent = Dis_dataloader(BATCH_SIZE,SEQ_LENGTH)\n",
    "    gan_trainer_ent = GanTrainer(generator_ent,discriminator_ent,rollout_ent,gen_data_loader_ent,dis_data_loader_ent,\n",
    "           tabular_model,'pretrain_notebook','advtrain_notebook',positive_file,negative_file_ent,BATCH_SIZE)\n",
    "    graph2_init_op = tf.global_variables_initializer()\n",
    "    saver2 = tf.train.Saver()"
   ]
  },
  {
   "cell_type": "code",
   "execution_count": 12,
   "metadata": {},
   "outputs": [],
   "source": [
    "config = tf.ConfigProto()\n",
    "config.gpu_options.allow_growth = True\n",
    "sess1 = tf.Session(config=config,graph=g1)\n",
    "sess2 = tf.Session(config=config,graph=g2)"
   ]
  },
  {
   "cell_type": "code",
   "execution_count": 13,
   "metadata": {},
   "outputs": [],
   "source": [
    "# run from saved checkpoint \n",
    "#saver = tf.train.Saver()\n",
    "#tf.reset_default_graph()\n",
    "#saver.restore(sess, 'model/pretrain_max_ent_tab.ckpt')\n",
    "#saver.restore(sess, 'model/advtrain.ckpt')"
   ]
  },
  {
   "cell_type": "code",
   "execution_count": 14,
   "metadata": {},
   "outputs": [],
   "source": [
    "sess1.run(graph1_init_op)\n",
    "sess2.run(graph2_init_op)"
   ]
  },
  {
   "cell_type": "code",
   "execution_count": 15,
   "metadata": {},
   "outputs": [
    {
     "name": "stdout",
     "output_type": "stream",
     "text": [
      "Start pre-training...\n",
      "pre-train epoch  0 test_loss  5.929840646741397\n",
      "pre-train epoch  5 test_loss  4.450525154048021\n",
      "pre-train epoch  10 test_loss  4.527355891289067\n",
      "pre-train epoch  15 test_loss  4.470251583786372\n",
      "pre-train epoch  20 test_loss  4.638762656888222\n",
      "pre-train epoch  25 test_loss  4.258336541634362\n",
      "pre-train epoch  30 test_loss  4.3718469664525195\n",
      "pre-train epoch  35 test_loss  4.366219908730117\n",
      "pre-train epoch  40 test_loss  4.4203765926253125\n",
      "pre-train epoch  45 test_loss  4.343329580541223\n",
      "pre-train epoch  50 test_loss  4.2369345537615715\n",
      "pre-train epoch  55 test_loss  4.404506965635685\n",
      "Start pre-training discriminator...\n",
      "pre-train entropy:  3.0860715\n",
      "Start pre-training...\n",
      "pre-train epoch  0 test_loss  6.010373646447311\n",
      "pre-train epoch  5 test_loss  4.824583330648426\n",
      "pre-train epoch  10 test_loss  4.388737074419119\n",
      "pre-train epoch  15 test_loss  4.228520178546573\n",
      "pre-train epoch  20 test_loss  4.331465741301237\n",
      "pre-train epoch  25 test_loss  4.330733914074049\n",
      "pre-train epoch  30 test_loss  4.168016148268688\n",
      "pre-train epoch  35 test_loss  4.230062661671907\n",
      "pre-train epoch  40 test_loss  4.169428128758538\n",
      "pre-train epoch  45 test_loss  4.365394287864462\n",
      "pre-train epoch  50 test_loss  4.1090614849492955\n",
      "pre-train epoch  55 test_loss  4.398304550551565\n",
      "Start pre-training discriminator...\n",
      "pre-train entropy:  3.0565412\n"
     ]
    }
   ],
   "source": [
    "gan_trainer.pretrain(sess1, 60, 20,3,\n",
    "    saver1,dis_dropout_keep_prob,generated_num)\n",
    "gan_trainer_ent.pretrain(sess2, 60, 20,3,\n",
    "    saver2,dis_dropout_keep_prob,generated_num)"
   ]
  },
  {
   "cell_type": "code",
   "execution_count": 182,
   "metadata": {},
   "outputs": [],
   "source": [
    "#EVEN WITH A VERY HIGH ENTROPY CONSTANT WE DON't see any major difference"
   ]
  },
  {
   "cell_type": "code",
   "execution_count": 183,
   "metadata": {},
   "outputs": [
    {
     "name": "stdout",
     "output_type": "stream",
     "text": [
      "GenT: 9999.0000 -  test_loss: 4.3320, g_loss: 113.3325, pol_ent: 2.9946, ll_disc: 0.3088\n",
      "GenT: 0.5000 -  test_loss: 4.2894, g_loss: 147.5757, pol_ent: 2.9758, ll_disc: 0.3156\n",
      "GenT: 9999.0000 -  test_loss: 4.3022, g_loss: 60.8039, pol_ent: 2.9886, ll_disc: 0.3298\n",
      "GenT: 0.5000 -  test_loss: 4.2663, g_loss: 64.7220, pol_ent: 2.9947, ll_disc: 0.3266\n",
      "GenT: 9999.0000 -  test_loss: 4.2959, g_loss: 14.5526, pol_ent: 3.0021, ll_disc: 0.3649\n",
      "GenT: 0.5000 -  test_loss: 4.2686, g_loss: 102.1926, pol_ent: 3.0043, ll_disc: 0.3612\n",
      "GenT: 9999.0000 -  test_loss: 4.2908, g_loss: -62.0156, pol_ent: 2.9891, ll_disc: 0.4099\n",
      "GenT: 0.5000 -  test_loss: 4.3119, g_loss: 70.0566, pol_ent: 3.0122, ll_disc: 0.3791\n",
      "GenT: 9999.0000 -  test_loss: 4.4271, g_loss: -73.0692, pol_ent: 2.9720, ll_disc: 0.4480\n",
      "GenT: 0.5000 -  test_loss: 4.3315, g_loss: 30.1151, pol_ent: 3.0110, ll_disc: 0.4393\n"
     ]
    }
   ],
   "source": [
    "for it in range(50):\n",
    "    for temp, gen, disc, gan, saver, sess in zip([9999,.5],[generator,generator_ent],\n",
    "            [discriminator,discriminator_ent],[gan_trainer, gan_trainer_ent],[saver1,saver2],[sess1,sess2]):\n",
    "        _, g_loss = gan.advtrain_gen(sess,1,64,temp)\n",
    "        if it % 10 == 0:\n",
    "            class_ = 1\n",
    "            test_loss = - tabular_model.ll(np.concatenate([gen.generate(sess) for _ in range(100)]))\n",
    "            policy_ent = np.mean([sess.run(gen.pretrain_loss,\n",
    "                {gen.x: gen.generate(sess) }) for _ in range(10)])\n",
    "        \n",
    "            disc_loss = np.mean(np.concatenate([sess.run(disc.ypred_for_auc, \n",
    "                {disc.input_x: gen.generate(sess), disc.dropout_keep_prob: \n",
    "                 dis_dropout_keep_prob})[:,class_] for _ in range(10)]))\n",
    "            print(\"GenT: {:.4f} -  test_loss: {:.4f}, g_loss: {:.4f}, pol_ent: {:.4f}, ll_disc: {:.4f}\"\n",
    "                .format(temp, test_loss, g_loss,policy_ent,disc_loss))"
   ]
  },
  {
   "cell_type": "code",
   "execution_count": 184,
   "metadata": {},
   "outputs": [
    {
     "data": {
      "text/plain": [
       "2.920297"
      ]
     },
     "execution_count": 184,
     "metadata": {},
     "output_type": "execute_result"
    }
   ],
   "source": [
    "np.mean([sess1.run(generator.pretrain_loss,\n",
    "                {generator.x: generator.generate(sess1) }) for _ in range(10)])"
   ]
  },
  {
   "cell_type": "code",
   "execution_count": 185,
   "metadata": {},
   "outputs": [
    {
     "data": {
      "text/plain": [
       "2.9569912"
      ]
     },
     "execution_count": 185,
     "metadata": {},
     "output_type": "execute_result"
    }
   ],
   "source": [
    "np.mean([sess2.run(generator_ent.pretrain_loss,\n",
    "                {generator_ent.x: generator_ent.generate(sess2) }) for _ in range(10)])"
   ]
  },
  {
   "cell_type": "code",
   "execution_count": 186,
   "metadata": {},
   "outputs": [
    {
     "data": {
      "text/plain": [
       "0.46981817"
      ]
     },
     "execution_count": 186,
     "metadata": {},
     "output_type": "execute_result"
    }
   ],
   "source": [
    "np.mean(np.concatenate([sess1.run(discriminator.ypred_for_auc, {discriminator.input_x: generator.generate(sess1), discriminator.dropout_keep_prob: dis_dropout_keep_prob})[:,class_] for _ in range(10)]))"
   ]
  },
  {
   "cell_type": "code",
   "execution_count": 187,
   "metadata": {},
   "outputs": [
    {
     "data": {
      "text/plain": [
       "0.4746616"
      ]
     },
     "execution_count": 187,
     "metadata": {},
     "output_type": "execute_result"
    }
   ],
   "source": [
    "np.mean(np.concatenate([sess2.run(discriminator_ent.ypred_for_auc, {discriminator_ent.input_x: generator_ent.generate(sess2), discriminator_ent.dropout_keep_prob: dis_dropout_keep_prob})[:,class_] for _ in range(10)]))"
   ]
  },
  {
   "cell_type": "code",
   "execution_count": 188,
   "metadata": {},
   "outputs": [],
   "source": [
    "#testloss is not stable"
   ]
  },
  {
   "cell_type": "code",
   "execution_count": 189,
   "metadata": {},
   "outputs": [
    {
     "data": {
      "text/plain": [
       "4.355631225065371"
      ]
     },
     "execution_count": 189,
     "metadata": {},
     "output_type": "execute_result"
    }
   ],
   "source": [
    "- tabular_model.ll(np.concatenate([generator_ent.generate(sess2) for _ in range(100)]))"
   ]
  },
  {
   "cell_type": "code",
   "execution_count": 190,
   "metadata": {},
   "outputs": [
    {
     "data": {
      "text/plain": [
       "4.4249025282761325"
      ]
     },
     "execution_count": 190,
     "metadata": {},
     "output_type": "execute_result"
    }
   ],
   "source": [
    "- tabular_model.ll(np.concatenate([generator.generate(sess1) for _ in range(100)]))"
   ]
  },
  {
   "cell_type": "code",
   "execution_count": 191,
   "metadata": {},
   "outputs": [],
   "source": [
    "# We see that improving the ll_disc dosn̈́'t mean that the test_loss falls.\n",
    "# Also It's not super evident that the entropy is not reaaaly different\n",
    "# For the entropy version with 0.25 we see that ll_disc is not going so much up while training the discrim"
   ]
  },
  {
   "cell_type": "code",
   "execution_count": 192,
   "metadata": {},
   "outputs": [
    {
     "name": "stdout",
     "output_type": "stream",
     "text": [
      "DISC: GenT: 9999.0000 - ll_disc: -1.6216\n",
      "DISC: GenT: 0.5000 - ll_disc: -1.2777\n",
      "DISC: GenT: 9999.0000 - ll_disc: -1.4060\n",
      "DISC: GenT: 0.5000 - ll_disc: -1.6455\n",
      "DISC: GenT: 9999.0000 - ll_disc: -1.3690\n",
      "DISC: GenT: 0.5000 - ll_disc: -1.6386\n",
      "DISC: GenT: 9999.0000 - ll_disc: -1.8370\n",
      "DISC: GenT: 0.5000 - ll_disc: -1.6328\n",
      "DISC: GenT: 9999.0000 - ll_disc: -1.8682\n",
      "DISC: GenT: 0.5000 - ll_disc: -1.7158\n",
      "DISC: GenT: 9999.0000 - ll_disc: -1.8046\n",
      "DISC: GenT: 0.5000 - ll_disc: -1.6828\n",
      "DISC: GenT: 9999.0000 - ll_disc: -1.4033\n",
      "DISC: GenT: 0.5000 - ll_disc: -2.0194\n",
      "DISC: GenT: 9999.0000 - ll_disc: -1.5856\n",
      "DISC: GenT: 0.5000 - ll_disc: -1.8652\n",
      "DISC: GenT: 9999.0000 - ll_disc: -1.4964\n",
      "DISC: GenT: 0.5000 - ll_disc: -1.8715\n",
      "DISC: GenT: 9999.0000 - ll_disc: -1.6938\n",
      "DISC: GenT: 0.5000 - ll_disc: -1.6086\n"
     ]
    }
   ],
   "source": [
    "for it in range(20):\n",
    "    for temp, gen, disc, neg_file, gan, saver, sess in zip([9999,.5],[generator,generator_ent],\n",
    "            [discriminator,discriminator_ent],[negative_file,negative_file_ent],[gan_trainer, gan_trainer_ent],[saver1,saver2],[sess1,sess2]):\n",
    "        gan.advtrain_disc(sess,saver,1,3,\n",
    "                BATCH_SIZE, generated_num, positive_file, neg_file, dis_dropout_keep_prob)\n",
    "        class_ = 1\n",
    "        predictions = np.array([])\n",
    "        for i in range(10):\n",
    "            predictions = np.concatenate((predictions,sess.run(disc.ypred_for_auc, {disc.input_x: gen.generate(sess), disc.dropout_keep_prob: dis_dropout_keep_prob})[:,class_]))\n",
    "        if it % 2 == 0:\n",
    "            print(\"DISC: GenT: {:.4f} - ll_disc: {:.4f}\"\n",
    "                .format(temp, np.mean(np.log(predictions))))\n"
   ]
  },
  {
   "cell_type": "code",
   "execution_count": 193,
   "metadata": {},
   "outputs": [],
   "source": [
    "#ll is not affected too much by training"
   ]
  },
  {
   "cell_type": "code",
   "execution_count": 194,
   "metadata": {},
   "outputs": [],
   "source": [
    "seq = [START_TOKEN]"
   ]
  },
  {
   "cell_type": "code",
   "execution_count": 195,
   "metadata": {},
   "outputs": [
    {
     "data": {
      "text/plain": [
       "<BarContainer object of 30 artists>"
      ]
     },
     "execution_count": 195,
     "metadata": {},
     "output_type": "execute_result"
    },
    {
     "data": {
      "image/png": "[encoded data removed]",
      "text/plain": [
       "<Figure size 432x288 with 1 Axes>"
      ]
     },
     "metadata": {
      "needs_background": "light"
     },
     "output_type": "display_data"
    }
   ],
   "source": [
    "h_t = generator.h0\n",
    "for token in seq:\n",
    "    x_t = tf.nn.embedding_lookup(generator.g_embeddings, [token]*BATCH_SIZE)\n",
    "    h_t = generator.g_recurrent_unit(x_t, h_t)  # hidden_memory_tuple\n",
    "    o_t = generator.g_output_unit(h_t)  # batch x vocab , logits not prob\n",
    "#log_prob = tf.log(tf.nn.softmax(o_t))\n",
    "dist0 = sess1.run(tf.nn.softmax(o_t))[0,:]\n",
    "plt.bar(vocab, dist0)\n",
    "#sess1.run(h_t)"
   ]
  },
  {
   "cell_type": "code",
   "execution_count": 196,
   "metadata": {},
   "outputs": [
    {
     "data": {
      "text/plain": [
       "<BarContainer object of 30 artists>"
      ]
     },
     "execution_count": 196,
     "metadata": {},
     "output_type": "execute_result"
    },
    {
     "data": {
      "image/png": "[encoded data removed]",
      "text/plain": [
       "<Figure size 432x288 with 1 Axes>"
      ]
     },
     "metadata": {
      "needs_background": "light"
     },
     "output_type": "display_data"
    }
   ],
   "source": [
    "h_t = generator_ent.h0\n",
    "for token in seq:\n",
    "    x_t = tf.nn.embedding_lookup(generator_ent.g_embeddings, [token]*BATCH_SIZE)\n",
    "    h_t = generator_ent.g_recurrent_unit(x_t, h_t)  # hidden_memory_tuple\n",
    "    o_t = generator_ent.g_output_unit(h_t)  # batch x vocab , logits not prob\n",
    "#log_prob = tf.log(tf.nn.softmax(o_t))\n",
    "dist0_ent = sess2.run(tf.nn.softmax(o_t))[0,:]\n",
    "plt.bar(vocab, dist0_ent)\n",
    "#sess1.run(h_t)"
   ]
  },
  {
   "cell_type": "code",
   "execution_count": 197,
   "metadata": {},
   "outputs": [
    {
     "data": {
      "text/plain": [
       "<BarContainer object of 30 artists>"
      ]
     },
     "execution_count": 197,
     "metadata": {},
     "output_type": "execute_result"
    },
    {
     "data": {
      "image/png": "[encoded data removed]",
      "text/plain": [
       "<Figure size 432x288 with 1 Axes>"
      ]
     },
     "metadata": {
      "needs_background": "light"
     },
     "output_type": "display_data"
    }
   ],
   "source": [
    "plt.bar(vocab,tabular_model.table[\"\"])"
   ]
  }
 ],
 "metadata": {
  "kernelspec": {
   "display_name": "Python 3",
   "language": "python",
   "name": "python3"
  },
  "language_info": {
   "codemirror_mode": {
    "name": "ipython",
    "version": 3
   },
   "file_extension": ".py",
   "mimetype": "text/x-python",
   "name": "python",
   "nbconvert_exporter": "python",
   "pygments_lexer": "ipython3",
   "version": "3.6.2"
  }
 },
 "nbformat": 4,
 "nbformat_minor": 4
}
